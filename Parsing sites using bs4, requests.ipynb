{
 "cells": [
  {
   "cell_type": "code",
   "execution_count": null,
   "metadata": {
    "id": "jP4fXcYxNcr7"
   },
   "outputs": [],
   "source": [
    "from bs4 import BeautifulSoup"
   ]
  },
  {
   "cell_type": "code",
   "execution_count": 1,
   "metadata": {
    "colab": {
     "base_uri": "https://localhost:8080/"
    },
    "executionInfo": {
     "elapsed": 40132,
     "status": "ok",
     "timestamp": 1658125966964,
     "user": {
      "displayName": "Саша Цариценская",
      "userId": "06396121656083390016"
     },
     "user_tz": -180
    },
    "id": "nrW-pL4zp-gj",
    "outputId": "28872808-fb5b-4b83-91d3-3325fe28f19a"
   },
   "outputs": [
    {
     "name": "stdout",
     "output_type": "stream",
     "text": [
      "Looking in indexes: https://pypi.org/simple, https://us-python.pkg.dev/colab-wheels/public/simple/\n",
      "Collecting selenium\n",
      "  Downloading selenium-4.3.0-py3-none-any.whl (981 kB)\n",
      "\u001b[K     |████████████████████████████████| 981 kB 30.0 MB/s \n",
      "\u001b[?25hCollecting trio-websocket~=0.9\n",
      "  Downloading trio_websocket-0.9.2-py3-none-any.whl (16 kB)\n",
      "Collecting trio~=0.17\n",
      "  Downloading trio-0.21.0-py3-none-any.whl (358 kB)\n",
      "\u001b[K     |████████████████████████████████| 358 kB 54.0 MB/s \n",
      "\u001b[?25hCollecting urllib3[secure,socks]~=1.26\n",
      "  Downloading urllib3-1.26.10-py2.py3-none-any.whl (139 kB)\n",
      "\u001b[K     |████████████████████████████████| 139 kB 61.0 MB/s \n",
      "\u001b[?25hCollecting outcome\n",
      "  Downloading outcome-1.2.0-py2.py3-none-any.whl (9.7 kB)\n",
      "Requirement already satisfied: idna in /usr/local/lib/python3.7/dist-packages (from trio~=0.17->selenium) (2.10)\n",
      "Collecting async-generator>=1.9\n",
      "  Downloading async_generator-1.10-py3-none-any.whl (18 kB)\n",
      "Collecting sniffio\n",
      "  Downloading sniffio-1.2.0-py3-none-any.whl (10 kB)\n",
      "Requirement already satisfied: sortedcontainers in /usr/local/lib/python3.7/dist-packages (from trio~=0.17->selenium) (2.4.0)\n",
      "Requirement already satisfied: attrs>=19.2.0 in /usr/local/lib/python3.7/dist-packages (from trio~=0.17->selenium) (21.4.0)\n",
      "Collecting wsproto>=0.14\n",
      "  Downloading wsproto-1.1.0-py3-none-any.whl (24 kB)\n",
      "Collecting pyOpenSSL>=0.14\n",
      "  Downloading pyOpenSSL-22.0.0-py2.py3-none-any.whl (55 kB)\n",
      "\u001b[K     |████████████████████████████████| 55 kB 4.5 MB/s \n",
      "\u001b[?25hRequirement already satisfied: certifi in /usr/local/lib/python3.7/dist-packages (from urllib3[secure,socks]~=1.26->selenium) (2022.6.15)\n",
      "Collecting cryptography>=1.3.4\n",
      "  Downloading cryptography-37.0.4-cp36-abi3-manylinux_2_24_x86_64.whl (4.1 MB)\n",
      "\u001b[K     |████████████████████████████████| 4.1 MB 46.6 MB/s \n",
      "\u001b[?25hRequirement already satisfied: PySocks!=1.5.7,<2.0,>=1.5.6 in /usr/local/lib/python3.7/dist-packages (from urllib3[secure,socks]~=1.26->selenium) (1.7.1)\n",
      "Requirement already satisfied: cffi>=1.12 in /usr/local/lib/python3.7/dist-packages (from cryptography>=1.3.4->urllib3[secure,socks]~=1.26->selenium) (1.15.1)\n",
      "Requirement already satisfied: pycparser in /usr/local/lib/python3.7/dist-packages (from cffi>=1.12->cryptography>=1.3.4->urllib3[secure,socks]~=1.26->selenium) (2.21)\n",
      "Collecting h11<1,>=0.9.0\n",
      "  Downloading h11-0.13.0-py3-none-any.whl (58 kB)\n",
      "\u001b[K     |████████████████████████████████| 58 kB 7.2 MB/s \n",
      "\u001b[?25hRequirement already satisfied: typing-extensions in /usr/local/lib/python3.7/dist-packages (from h11<1,>=0.9.0->wsproto>=0.14->trio-websocket~=0.9->selenium) (4.1.1)\n",
      "Installing collected packages: sniffio, outcome, h11, cryptography, async-generator, wsproto, urllib3, trio, pyOpenSSL, trio-websocket, selenium\n",
      "  Attempting uninstall: urllib3\n",
      "    Found existing installation: urllib3 1.24.3\n",
      "    Uninstalling urllib3-1.24.3:\n",
      "      Successfully uninstalled urllib3-1.24.3\n",
      "\u001b[31mERROR: pip's dependency resolver does not currently take into account all the packages that are installed. This behaviour is the source of the following dependency conflicts.\n",
      "requests 2.23.0 requires urllib3!=1.25.0,!=1.25.1,<1.26,>=1.21.1, but you have urllib3 1.26.10 which is incompatible.\n",
      "datascience 0.10.6 requires folium==0.2.1, but you have folium 0.8.3 which is incompatible.\u001b[0m\n",
      "Successfully installed async-generator-1.10 cryptography-37.0.4 h11-0.13.0 outcome-1.2.0 pyOpenSSL-22.0.0 selenium-4.3.0 sniffio-1.2.0 trio-0.21.0 trio-websocket-0.9.2 urllib3-1.26.10 wsproto-1.1.0\n",
      "Get:1 https://cloud.r-project.org/bin/linux/ubuntu bionic-cran40/ InRelease [3,626 B]\n",
      "Hit:2 https://developer.download.nvidia.com/compute/cuda/repos/ubuntu1804/x86_64  InRelease\n",
      "Hit:3 http://archive.ubuntu.com/ubuntu bionic InRelease\n",
      "Hit:4 http://ppa.launchpad.net/c2d4u.team/c2d4u4.0+/ubuntu bionic InRelease\n",
      "Get:5 http://security.ubuntu.com/ubuntu bionic-security InRelease [88.7 kB]\n",
      "Get:6 http://archive.ubuntu.com/ubuntu bionic-updates InRelease [88.7 kB]\n",
      "Ign:7 https://developer.download.nvidia.com/compute/machine-learning/repos/ubuntu1804/x86_64  InRelease\n",
      "Hit:8 https://developer.download.nvidia.com/compute/machine-learning/repos/ubuntu1804/x86_64  Release\n",
      "Hit:9 http://ppa.launchpad.net/cran/libgit2/ubuntu bionic InRelease\n",
      "Get:10 https://cloud.r-project.org/bin/linux/ubuntu bionic-cran40/ Packages [85.6 kB]\n",
      "Hit:11 http://ppa.launchpad.net/deadsnakes/ppa/ubuntu bionic InRelease\n",
      "Get:12 http://archive.ubuntu.com/ubuntu bionic-backports InRelease [74.6 kB]\n",
      "Hit:13 http://ppa.launchpad.net/graphics-drivers/ppa/ubuntu bionic InRelease\n",
      "Get:15 http://archive.ubuntu.com/ubuntu bionic-updates/main amd64 Packages [3,329 kB]\n",
      "Get:16 http://security.ubuntu.com/ubuntu bionic-security/restricted amd64 Packages [1,057 kB]\n",
      "Get:17 http://archive.ubuntu.com/ubuntu bionic-updates/universe amd64 Packages [2,302 kB]\n",
      "Get:18 http://security.ubuntu.com/ubuntu bionic-security/main amd64 Packages [2,897 kB]\n",
      "Get:19 http://security.ubuntu.com/ubuntu bionic-security/universe amd64 Packages [1,526 kB]\n",
      "Fetched 11.5 MB in 3s (3,616 kB/s)\n",
      "Reading package lists... Done\n",
      "Reading package lists... Done\n",
      "Building dependency tree       \n",
      "Reading state information... Done\n",
      "The following package was automatically installed and is no longer required:\n",
      "  libnvidia-common-460\n",
      "Use 'apt autoremove' to remove it.\n",
      "The following additional packages will be installed:\n",
      "  chromium-browser chromium-browser-l10n chromium-codecs-ffmpeg-extra\n",
      "Suggested packages:\n",
      "  webaccounts-chromium-extension unity-chromium-extension\n",
      "The following NEW packages will be installed:\n",
      "  chromium-browser chromium-browser-l10n chromium-chromedriver\n",
      "  chromium-codecs-ffmpeg-extra\n",
      "0 upgraded, 4 newly installed, 0 to remove and 64 not upgraded.\n",
      "Need to get 89.8 MB of archives.\n",
      "After this operation, 302 MB of additional disk space will be used.\n",
      "Get:1 http://archive.ubuntu.com/ubuntu bionic-updates/universe amd64 chromium-codecs-ffmpeg-extra amd64 101.0.4951.64-0ubuntu0.18.04.1 [1,142 kB]\n",
      "Get:2 http://archive.ubuntu.com/ubuntu bionic-updates/universe amd64 chromium-browser amd64 101.0.4951.64-0ubuntu0.18.04.1 [78.5 MB]\n",
      "Get:3 http://archive.ubuntu.com/ubuntu bionic-updates/universe amd64 chromium-browser-l10n all 101.0.4951.64-0ubuntu0.18.04.1 [4,980 kB]\n",
      "Get:4 http://archive.ubuntu.com/ubuntu bionic-updates/universe amd64 chromium-chromedriver amd64 101.0.4951.64-0ubuntu0.18.04.1 [5,153 kB]\n",
      "Fetched 89.8 MB in 3s (28.3 MB/s)\n",
      "Selecting previously unselected package chromium-codecs-ffmpeg-extra.\n",
      "(Reading database ... 155653 files and directories currently installed.)\n",
      "Preparing to unpack .../chromium-codecs-ffmpeg-extra_101.0.4951.64-0ubuntu0.18.04.1_amd64.deb ...\n",
      "Unpacking chromium-codecs-ffmpeg-extra (101.0.4951.64-0ubuntu0.18.04.1) ...\n",
      "Selecting previously unselected package chromium-browser.\n",
      "Preparing to unpack .../chromium-browser_101.0.4951.64-0ubuntu0.18.04.1_amd64.deb ...\n",
      "Unpacking chromium-browser (101.0.4951.64-0ubuntu0.18.04.1) ...\n",
      "Selecting previously unselected package chromium-browser-l10n.\n",
      "Preparing to unpack .../chromium-browser-l10n_101.0.4951.64-0ubuntu0.18.04.1_all.deb ...\n",
      "Unpacking chromium-browser-l10n (101.0.4951.64-0ubuntu0.18.04.1) ...\n",
      "Selecting previously unselected package chromium-chromedriver.\n",
      "Preparing to unpack .../chromium-chromedriver_101.0.4951.64-0ubuntu0.18.04.1_amd64.deb ...\n",
      "Unpacking chromium-chromedriver (101.0.4951.64-0ubuntu0.18.04.1) ...\n",
      "Setting up chromium-codecs-ffmpeg-extra (101.0.4951.64-0ubuntu0.18.04.1) ...\n",
      "Setting up chromium-browser (101.0.4951.64-0ubuntu0.18.04.1) ...\n",
      "update-alternatives: using /usr/bin/chromium-browser to provide /usr/bin/x-www-browser (x-www-browser) in auto mode\n",
      "update-alternatives: using /usr/bin/chromium-browser to provide /usr/bin/gnome-www-browser (gnome-www-browser) in auto mode\n",
      "Setting up chromium-chromedriver (101.0.4951.64-0ubuntu0.18.04.1) ...\n",
      "Setting up chromium-browser-l10n (101.0.4951.64-0ubuntu0.18.04.1) ...\n",
      "Processing triggers for man-db (2.8.3-2ubuntu0.1) ...\n",
      "Processing triggers for hicolor-icon-theme (0.17-2) ...\n",
      "Processing triggers for mime-support (3.60ubuntu1) ...\n",
      "Processing triggers for libc-bin (2.27-3ubuntu1.3) ...\n",
      "/sbin/ldconfig.real: /usr/local/lib/python3.7/dist-packages/ideep4py/lib/libmkldnn.so.0 is not a symbolic link\n",
      "\n"
     ]
    },
    {
     "name": "stderr",
     "output_type": "stream",
     "text": [
      "/usr/local/lib/python3.7/dist-packages/ipykernel_launcher.py:10: DeprecationWarning: use options instead of chrome_options\n",
      "  # Remove the CWD from sys.path while we load stuff.\n"
     ]
    }
   ],
   "source": [
    "!pip install selenium\n",
    "!apt-get update \n",
    "!apt install chromium-chromedriver\n",
    "\n",
    "from selenium import webdriver\n",
    "chrome_options = webdriver.ChromeOptions()\n",
    "chrome_options.add_argument('--headless')\n",
    "chrome_options.add_argument('--no-sandbox')\n",
    "chrome_options.add_argument('--disable-dev-shm-usage')\n",
    "driver = webdriver.Chrome('chromedriver',chrome_options=chrome_options)"
   ]
  },
  {
   "cell_type": "code",
   "execution_count": null,
   "metadata": {
    "id": "qTzy6QfYAqMm"
   },
   "outputs": [],
   "source": []
  },
  {
   "cell_type": "code",
   "execution_count": null,
   "metadata": {
    "colab": {
     "base_uri": "https://localhost:8080/"
    },
    "executionInfo": {
     "elapsed": 337,
     "status": "ok",
     "timestamp": 1658053009192,
     "user": {
      "displayName": "Саша Цариценская",
      "userId": "06396121656083390016"
     },
     "user_tz": -180
    },
    "id": "2qxlrHs7NeZU",
    "outputId": "c3f209d5-f363-47d8-ed02-13e29d07e4ac"
   },
   "outputs": [
    {
     "name": "stderr",
     "output_type": "stream",
     "text": [
      "/usr/local/lib/python3.7/dist-packages/requests/__init__.py:91: RequestsDependencyWarning: urllib3 (1.26.10) or chardet (3.0.4) doesn't match a supported version!\n",
      "  RequestsDependencyWarning)\n"
     ]
    }
   ],
   "source": [
    "import requests"
   ]
  },
  {
   "cell_type": "code",
   "execution_count": null,
   "metadata": {
    "id": "gPzr3zBQNeLd"
   },
   "outputs": [],
   "source": [
    "air = requests.get('https://www.ipa-don.ru/projects/')"
   ]
  },
  {
   "cell_type": "code",
   "execution_count": null,
   "metadata": {
    "id": "Em5r9xdhNd-O"
   },
   "outputs": [],
   "source": [
    "airsoup = BeautifulSoup(air.content)"
   ]
  },
  {
   "cell_type": "code",
   "execution_count": null,
   "metadata": {
    "id": "DBIxAOXjOHc5"
   },
   "outputs": [],
   "source": [
    "projects = airsoup.findAll('a', class_ ='like_h2')"
   ]
  },
  {
   "cell_type": "code",
   "execution_count": null,
   "metadata": {
    "colab": {
     "base_uri": "https://localhost:8080/"
    },
    "executionInfo": {
     "elapsed": 302,
     "status": "ok",
     "timestamp": 1657896359180,
     "user": {
      "displayName": "Саша Цариценская",
      "userId": "06396121656083390016"
     },
     "user_tz": -180
    },
    "id": "E530oBIcSXLa",
    "outputId": "b281212d-186e-49f6-df63-709d1be43818"
   },
   "outputs": [
    {
     "name": "stdout",
     "output_type": "stream",
     "text": [
      "Завод «Гардиан Стекло Ростов»\n",
      "Фабрика MARS по выпуску кормов для домашних животных\n",
      "Завод Соса-Соla НВС Россия\n",
      "Завод PepsiCo (Frito Lay Manufacturing)\n",
      "Зерновой терминал Louis Dreyfus\n",
      "Складской терминал FM Logistic\n",
      "Завод промышленных газов Air Products\n",
      "Завод ТЕХНОНИКОЛЬ по выпуску каменной ваты\n",
      "Завод Segezha Group по выпуску бумажной упаковки\n",
      "Завод компании «Ай-Пласт» по выпуску полимерной тары\n",
      "Ветроэлектростанция «Азовская ВЭС»\n",
      "Ветропарки Fortum и «Роснано»\n",
      "Региональный склад Яндекс.Маркет\n",
      "Гемодиализные центры Fresenius\n",
      "Машиностроительный завод «БОНУМ»\n",
      "«Завод точной механики» (оборудование для АГНКС)\n",
      "Экорайон «Вересаево»\n",
      "Жилищные комплексы  «Девелопмент-Юг»\n"
     ]
    }
   ],
   "source": [
    "for i in projects:\n",
    "  print(i.string.strip())"
   ]
  },
  {
   "cell_type": "code",
   "execution_count": null,
   "metadata": {
    "id": "J0otQ0SYRtrk"
   },
   "outputs": [],
   "source": [
    "contacts = airsoup.findAll('span', class_ =['phone', 'fax', 'email'])\n"
   ]
  },
  {
   "cell_type": "code",
   "execution_count": null,
   "metadata": {
    "colab": {
     "base_uri": "https://localhost:8080/"
    },
    "executionInfo": {
     "elapsed": 296,
     "status": "ok",
     "timestamp": 1657897102962,
     "user": {
      "displayName": "Саша Цариценская",
      "userId": "06396121656083390016"
     },
     "user_tz": -180
    },
    "id": "vMFrQltKRseH",
    "outputId": "067b57a4-9e7d-40f8-ea26-919dc7be2804"
   },
   "outputs": [
    {
     "data": {
      "text/plain": [
       "[<span class=\"phone\">+7 (863) 200-25-44</span>,\n",
       " <span class=\"fax\">+7 (863) 200-25-23</span>,\n",
       " <span class=\"email\"><a href=\"mailto:general@ipa-don.ru\">general@ipa-don.ru</a></span>]"
      ]
     },
     "execution_count": 41,
     "metadata": {},
     "output_type": "execute_result"
    }
   ],
   "source": [
    "contacts\n"
   ]
  },
  {
   "cell_type": "code",
   "execution_count": null,
   "metadata": {
    "colab": {
     "base_uri": "https://localhost:8080/"
    },
    "executionInfo": {
     "elapsed": 356,
     "status": "ok",
     "timestamp": 1657897231424,
     "user": {
      "displayName": "Саша Цариценская",
      "userId": "06396121656083390016"
     },
     "user_tz": -180
    },
    "id": "nJvhPyRFOHXl",
    "outputId": "82ede46e-7da2-473c-b01a-b6113859ef14"
   },
   "outputs": [
    {
     "name": "stdout",
     "output_type": "stream",
     "text": [
      "Контактные данные:\n",
      "+7 (863) 200-25-44\n",
      "+7 (863) 200-25-23\n",
      "general@ipa-don.ru\n"
     ]
    }
   ],
   "source": [
    "print(\"Контактные данные:\")\n",
    "for i in contacts:\n",
    "  print(i.string.strip())"
   ]
  },
  {
   "cell_type": "code",
   "execution_count": null,
   "metadata": {
    "id": "81if26pIOHUx"
   },
   "outputs": [],
   "source": [
    "images = airsoup.findAll('img', class_ ='project-image')"
   ]
  },
  {
   "cell_type": "code",
   "execution_count": null,
   "metadata": {
    "colab": {
     "base_uri": "https://localhost:8080/"
    },
    "executionInfo": {
     "elapsed": 14,
     "status": "ok",
     "timestamp": 1657897324496,
     "user": {
      "displayName": "Саша Цариценская",
      "userId": "06396121656083390016"
     },
     "user_tz": -180
    },
    "id": "69oRXWkNOHR8",
    "outputId": "8b2d96a7-22bd-4868-d1ca-f86e16581335"
   },
   "outputs": [
    {
     "data": {
      "text/plain": [
       "[<img alt=\"Завод «Гардиан Стекло Ростов» \" border=\"0\" class=\"project-image\" src=\"/upload/iblock/b38/1.jpg\" title=\"Завод «Гардиан Стекло Ростов» \"/>,\n",
       " <img alt=\"Фабрика MARS по выпуску кормов для домашних животных \" border=\"0\" class=\"project-image\" src=\"/upload/iblock/fca/01.jpg\" title=\"Фабрика MARS по выпуску кормов для домашних животных \"/>,\n",
       " <img alt=\"Завод Соса-Соla НВС Россия  \" border=\"0\" class=\"project-image\" src=\"/upload/iblock/19c/1.jpg\" title=\"Завод Соса-Соla НВС Россия  \"/>,\n",
       " <img alt=\"Завод PepsiCo (Frito Lay Manufacturing) \" border=\"0\" class=\"project-image\" src=\"/upload/iblock/b2c/1.jpg\" title=\"Завод PepsiCo (Frito Lay Manufacturing) \"/>,\n",
       " <img alt=\"Зерновой терминал Louis Dreyfus\" border=\"0\" class=\"project-image\" src=\"/upload/iblock/716/01.jpg\" title=\"Зерновой терминал Louis Dreyfus\"/>,\n",
       " <img alt=\"Складской терминал FM Logistic \" border=\"0\" class=\"project-image\" src=\"/upload/iblock/bd4/01.jpg\" title=\"Складской терминал FM Logistic \"/>,\n",
       " <img alt=\"Завод промышленных газов Air Products \" border=\"0\" class=\"project-image\" src=\"/upload/iblock/55f/1.jpg\" title=\"Завод промышленных газов Air Products \"/>,\n",
       " <img alt=\"Завод ТЕХНОНИКОЛЬ по выпуску каменной ваты\" border=\"0\" class=\"project-image\" src=\"/upload/iblock/de4/1.jpg\" title=\"Завод ТЕХНОНИКОЛЬ по выпуску каменной ваты\"/>,\n",
       " <img alt=\"Завод Segezha Group по выпуску бумажной упаковки\" border=\"0\" class=\"project-image\" src=\"/upload/iblock/f54/1.jpg\" title=\"Завод Segezha Group по выпуску бумажной упаковки\"/>,\n",
       " <img alt=\"Завод компании «Ай-Пласт» по выпуску полимерной тары\" border=\"0\" class=\"project-image\" src=\"/upload/iblock/8e3/1.jpg\" title=\"Завод компании «Ай-Пласт» по выпуску полимерной тары\"/>,\n",
       " <img alt=\"Ветроэлектростанция «Азовская ВЭС» \" border=\"0\" class=\"project-image\" src=\"/upload/iblock/356/DJI_0442.jpg\" title=\"Ветроэлектростанция «Азовская ВЭС» \"/>,\n",
       " <img alt=\"Ветропарки Fortum и «Роснано»\" border=\"0\" class=\"project-image\" src=\"/upload/iblock/5ac/08.jpg\" title=\"Ветропарки Fortum и «Роснано»\"/>,\n",
       " <img alt=\"Региональный склад Яндекс.Маркет \" border=\"0\" class=\"project-image\" src=\"/upload/iblock/678/01.jpg\" title=\"Региональный склад Яндекс.Маркет \"/>,\n",
       " <img alt=\"Гемодиализные центры Fresenius\" border=\"0\" class=\"project-image\" src=\"/upload/iblock/d89/01.jpg\" title=\"Гемодиализные центры Fresenius\"/>,\n",
       " <img alt=\"Машиностроительный завод «БОНУМ»\" border=\"0\" class=\"project-image\" src=\"/upload/iblock/40d/01.jpg\" title=\"Машиностроительный завод «БОНУМ»\"/>,\n",
       " <img alt=\"«Завод точной механики» (оборудование для АГНКС)\" border=\"0\" class=\"project-image\" src=\"/upload/iblock/bab/01.jpg\" title=\"«Завод точной механики» (оборудование для АГНКС)\"/>,\n",
       " <img alt=\"Экорайон «Вересаево»\" border=\"0\" class=\"project-image\" src=\"/upload/iblock/85e/1.jpg\" title=\"Экорайон «Вересаево»\"/>,\n",
       " <img alt=\"Жилищные комплексы  «Девелопмент-Юг»\" border=\"0\" class=\"project-image\" src=\"/upload/iblock/6c4/1_result.jpg\" title=\"Жилищные комплексы  «Девелопмент-Юг»\"/>]"
      ]
     },
     "execution_count": 52,
     "metadata": {},
     "output_type": "execute_result"
    }
   ],
   "source": [
    "images"
   ]
  },
  {
   "cell_type": "code",
   "execution_count": null,
   "metadata": {
    "id": "lUUnCcNJOHPB"
   },
   "outputs": [],
   "source": [
    "import requests"
   ]
  },
  {
   "cell_type": "code",
   "execution_count": null,
   "metadata": {
    "id": "FAdGVvLKOHMQ"
   },
   "outputs": [],
   "source": [
    "def fetch(url, params): # params = {method, headers, body}\n",
    "    headers = params[\"headers\"]\n",
    "    body = params[\"body\"]\n",
    "    method = params[\"method\"]\n",
    "\n",
    "    if method == \"POST\":\n",
    "        return requests.post(url, headers=headers, data=body)\n",
    "    \n",
    "    if method == \"GET\":\n",
    "        return requests.get(url, headers=headers)"
   ]
  },
  {
   "cell_type": "code",
   "execution_count": null,
   "metadata": {
    "id": "6LyKNYSPOGuq"
   },
   "outputs": [],
   "source": [
    "rolls = fetch(\"https://auto.ru/-/ajax/desktop/listing/\", {\n",
    "  \"headers\": {\n",
    "    \"accept\": \"*/*\",\n",
    "    \"accept-language\": \"ru,en;q=0.9,en-GB;q=0.8,en-US;q=0.7\",\n",
    "    \"content-type\": \"application/json\",\n",
    "    \"sec-ch-ua\": \"\\\" Not;A Brand\\\";v=\\\"99\\\", \\\"Microsoft Edge\\\";v=\\\"103\\\", \\\"Chromium\\\";v=\\\"103\\\"\",\n",
    "    \"sec-ch-ua-mobile\": \"?0\",\n",
    "    \"sec-ch-ua-platform\": \"\\\"Windows\\\"\",\n",
    "    \"sec-fetch-dest\": \"empty\",\n",
    "    \"sec-fetch-mode\": \"same-origin\",\n",
    "    \"sec-fetch-site\": \"same-origin\",\n",
    "    \"x-client-app-version\": \"87.0.9727341\",\n",
    "    \"x-client-date\": \"1657912903186\",\n",
    "    \"x-csrf-token\": \"bf3af2b4cd82f20fc1699824f5894c4ce43ed75f770b72bb\",\n",
    "    \"x-page-request-id\": \"973a975e7803c793e0636f768af4efaf\",\n",
    "    \"x-requested-with\": \"XMLHttpRequest\",\n",
    "    \"x-retpath-y\": \"https://auto.ru/rostov-na-donu/cars/lamborghini/all/?price_from=30000000\",\n",
    "    \"x-yafp\": \"{\\\"a1\\\":\\\"Kw1vXA==;0\\\",\\\"a2\\\":\\\"lBLcgUOhfm/CP12qoNeh0+Q6ym+kww==;1\\\",\\\"a3\\\":\\\"0DRzASuK1S1lU/xHDAr9JA==;2\\\",\\\"a4\\\":\\\"nNqczcCDzmaqRJ5jsvH/u/vT+4rZLXaC41Bhz/Vx52AWfg==;3\\\",\\\"a5\\\":\\\"yPXkrHc9P9YJZA==;4\\\",\\\"a6\\\":\\\"xcE=;5\\\",\\\"a7\\\":\\\"hFdIFCC/02/3vQ==;6\\\",\\\"a8\\\":\\\"t830IzB5wl8=;7\\\",\\\"a9\\\":\\\"whGRuk6KAuXugQ==;8\\\",\\\"b1\\\":\\\"zfI3wAIfp0c=;9\\\",\\\"b2\\\":\\\"Irq49aWwLhQTvQ==;10\\\",\\\"b3\\\":\\\"acTXjnqCleF9TA==;11\\\",\\\"b4\\\":\\\"L9iOKzbkako=;12\\\",\\\"b5\\\":\\\"MwqfGXNiPzcaTw==;13\\\",\\\"b6\\\":\\\"ouGKWxQiq0geSQ==;14\\\",\\\"b7\\\":\\\"Otum2jZBbkKniA==;15\\\",\\\"b8\\\":\\\"JnOw/qIGjnnD9g==;16\\\",\\\"b9\\\":\\\"eSVrdP1QjFoEEA==;17\\\",\\\"c1\\\":\\\"0IJI8g==;18\\\",\\\"c2\\\":\\\"67ZuFpjnlSr2BF2m1npjNw==;19\\\",\\\"c3\\\":\\\"/xGEGcDDBvJMJ/nb33TS+Q==;20\\\",\\\"c4\\\":\\\"DUr0y/4kFYI=;21\\\",\\\"c5\\\":\\\"0KMtgno5rH4=;22\\\",\\\"c6\\\":\\\"dUHy5g==;23\\\",\\\"c7\\\":\\\"d/py9TkadTc=;24\\\",\\\"c8\\\":\\\"vb8=;25\\\",\\\"c9\\\":\\\"y3Bli159wKI=;26\\\",\\\"d1\\\":\\\"vDoeKOCQK/A=;27\\\",\\\"d2\\\":\\\"h0M=;28\\\",\\\"d3\\\":\\\"JDWRFp7ohT7gWw==;29\\\",\\\"d4\\\":\\\"fBhCd+tLbxk=;30\\\",\\\"d5\\\":\\\"FFvOxpsGhP0=;31\\\",\\\"d7\\\":\\\"xKrA5QmZpX4=;32\\\",\\\"d8\\\":\\\"JzpmzzosskkpxdnOk3YJPhu6/PgWveOf8Z8=;33\\\",\\\"d9\\\":\\\"6+tKRRqgQ+U=;34\\\",\\\"e1\\\":\\\"i1OkFNzHfOWXjA==;35\\\",\\\"e2\\\":\\\"wukA/r+XsKQ=;36\\\",\\\"e3\\\":\\\"wRJNioY5rd4=;37\\\",\\\"e4\\\":\\\"c92wkSEICys=;38\\\",\\\"e5\\\":\\\"BBSG/vy11CH2Aw==;39\\\",\\\"e6\\\":\\\"FtC/j9DrDA0=;40\\\",\\\"e7\\\":\\\"YWPum768cSy2fw==;41\\\",\\\"e8\\\":\\\"WvLVsMRQfNM=;42\\\",\\\"e9\\\":\\\"tTXbPi3tJBI=;43\\\",\\\"f1\\\":\\\"PIfK5KG8C279Hw==;44\\\",\\\"f2\\\":\\\"dgGhNJ7RgXs=;45\\\",\\\"f3\\\":\\\"TrGVTmbAjpiuMQ==;46\\\",\\\"f4\\\":\\\"9dfyDplqNZ0=;47\\\",\\\"f5\\\":\\\"webQD3aPBqj0yQ==;48\\\",\\\"f6\\\":\\\"h1sTPB31dm/3Rg==;49\\\",\\\"f7\\\":\\\"poYJo/DXaPb7QA==;50\\\",\\\"f8\\\":\\\"lsV2iRhmy7ppPA==;51\\\",\\\"f9\\\":\\\"zFgeOjMJN2I=;52\\\",\\\"g1\\\":\\\"QFpD54/j/UlKrA==;53\\\",\\\"g2\\\":\\\"J0hrN/TNla5Lwg==;54\\\",\\\"g3\\\":\\\"4PYMc20ACl4=;55\\\",\\\"g4\\\":\\\"chdASXt6xzE0lA==;56\\\",\\\"g5\\\":\\\"Euk77HOIsrA=;57\\\",\\\"g6\\\":\\\"rzeFMJVHzHM=;58\\\",\\\"g7\\\":\\\"cM1c5RB0oN4=;59\\\",\\\"g8\\\":\\\"bItZvcu34xQ=;60\\\",\\\"g9\\\":\\\"nShcFnFqarE=;61\\\",\\\"h1\\\":\\\"zNvZ/7JoUoDWmg==;62\\\",\\\"h2\\\":\\\"cflnMp/7taIyrA==;63\\\",\\\"h3\\\":\\\"MyOP2C1n6PHXbg==;64\\\",\\\"h4\\\":\\\"/36Z7B9r9/5BjQ==;65\\\",\\\"h5\\\":\\\"OR3U0RnNXMc=;66\\\",\\\"h6\\\":\\\"NFFIclNTdVAUZA==;67\\\",\\\"h7\\\":\\\"HugyOxqB4//0xxBmIrk3yJTgmIeXbUh2+5VwWpWhbqoAne1n;68\\\",\\\"h8\\\":\\\"tZrss9uNA6mSHg==;69\\\",\\\"h9\\\":\\\"tQe/tklDxFVmJg==;70\\\",\\\"i1\\\":\\\"31PfBMoP6Kk=;71\\\",\\\"i2\\\":\\\"iWzkXnKwjcwkOw==;72\\\",\\\"i3\\\":\\\"IApv+EuHG7QkPw==;73\\\",\\\"i4\\\":\\\"OJ0LVkesK2gP1A==;74\\\",\\\"i5\\\":\\\"VJJIjKhtGMqaqg==;75\\\",\\\"z1\\\":\\\"1+C0akQ7n7qZyC9bW47fLF6pPLq/Bk+B4tv0+h6HC7YI60ZOyKo6iqJmQAEJlmSir++Wt9rSw7Vswe4ehEFKpg==;76\\\",\\\"z2\\\":\\\"1u9v+gIm1hVNeB+yYPQTuhBYR8iVjk67UneX1qSrZiWda63OYWda4zASt5JlXBtqZOpKg5jvhSZLBKk2tf7pFQ==;77\\\",\\\"y2\\\":\\\"+9nbeAha8Bhqqw==;78\\\",\\\"y3\\\":\\\"alZhU3Qb/sSoBw==;79\\\",\\\"y6\\\":\\\"DYsXe6B2MPQ/fw==;80\\\",\\\"y8\\\":\\\"r8myCTPs+PZxfg==;81\\\",\\\"x4\\\":\\\"bLy+nd4oiU8PSA==;82\\\",\\\"z5\\\":\\\"Jzcfc3YiRoY=;83\\\",\\\"z4\\\":\\\"Fs9i5ZdNfTY/UQ==;84\\\",\\\"z6\\\":\\\"jt2EL+XkTQyhOrZD;85\\\",\\\"z7\\\":\\\"Vu+OFEL303fbD75S;86\\\",\\\"z8\\\":\\\"UF7sgSOIULl1OmSoxp8=;87\\\",\\\"z9\\\":\\\"GNVMu9aPIQ5H30TS;88\\\",\\\"y1\\\":\\\"mbEW8TZw7NS20Kts;89\\\",\\\"y4\\\":\\\"it74NxOi20/AiLzb;90\\\",\\\"y5\\\":\\\"arwsduK+yDXFVk2vAmI=;91\\\",\\\"y7\\\":\\\"OLzT0BJh66QgWLxh;92\\\",\\\"y9\\\":\\\"zNbRG6J+Pmo+tF1fhdU=;93\\\",\\\"y10\\\":\\\"+Dpwx4qnhkY0B/ttThs=;94\\\",\\\"x1\\\":\\\"UKk9D0pgRK0RMgde;95\\\",\\\"x2\\\":\\\"S8Syh47iTQPbbwhXXak=;96\\\",\\\"x3\\\":\\\"pTqw+UnxAH3RKhyU;97\\\",\\\"x5\\\":\\\"iUq9DD4BhNOzpmCK;98\\\",\\\"z3\\\":\\\"6qTJmqPEpqCzkYvDsEkK6aGt8Yk+PGXz4loBCwmyotY=;99\\\",\\\"v\\\":\\\"6.3.1\\\",\\\"pgrdt\\\":\\\"9ienujR3I1lZQONrEeyLNoe+zrw=;100\\\",\\\"pgrd\\\":\\\"Oyy7t3340QFBrdfNkGlqWLj9gEHtn1fX9bL8xBdLCskpd8dlR1yTolGjsV6iD/6vKWz4pwP+cI7KXn9Dd8HF3opW5uXs9RBV7R9r8VnPkMD9LEYdFywKzs5pIdQtOMxd+JE8BF7NLg7V6As3taS8Pfin16khoXtpsFwnQga9tLuTtbhEBItC3fE3V1eyFV1xWtHPeNOa5Z4i6NgYzqw102CVBJU=\\\"}\",\n",
    "    \"cookie\": \"_csrf_token=bf3af2b4cd82f20fc1699824f5894c4ce43ed75f770b72bb; autoru_sid=a%3Ag62d1bdbf2uvv4v9fj84j3j8qgg8gqkr.11af427a14ac8a8ce5be990761f64e9a%7C1657912767534.604800.xAiCo6CB1-mPoQIE_Dh51Q.T9s77Xth8GKSt5yJexjtE-YcaFqRjDEFe2Z51gWQLzc; autoruuid=g62d1bdbf2uvv4v9fj84j3j8qgg8gqkr.11af427a14ac8a8ce5be990761f64e9a; suid=aedd17e557b5ca1ebb59e30da4717cef.a77197c0760bde368ce2ebcd85eaf8ad; from=morda; yuidlt=1; yandexuid=2837451181628247310; my=YwA%3D; ys=wprid.1657912144316672-11756743266757663622-vla1-4455-vla-l7-balancer-8080-BAL-6884; counter_ga_all7=2; gdpr=0; _ym_uid=1657912776611602199; _ym_isad=2; sso_status=sso.passport.yandex.ru:blocked; _yasc=rBZKfvBXK4EC0pcTbzpBhezrnxINAQJP1iFNk5lAZMVeCA9u; from_lifetime=1657912902105; _ym_d=1657912902\",\n",
    "    \"Referer\": \"https://auto.ru/rostov-na-donu/cars/lamborghini/all/?price_from=30000000\",\n",
    "    \"Referrer-Policy\": \"no-referrer-when-downgrade\"\n",
    "  },\n",
    "  \"body\": \"{\\\"catalog_filter\\\":[{\\\"mark\\\":\\\"ROLLS_ROYCE\\\"}],\\\"section\\\":\\\"all\\\",\\\"category\\\":\\\"cars\\\",\\\"price_from\\\":30000000,\\\"output_type\\\":\\\"list\\\",\\\"geo_radius\\\":300,\\\"geo_id\\\":[39]}\",\n",
    "  \"method\": \"POST\"\n",
    "});"
   ]
  },
  {
   "cell_type": "code",
   "execution_count": null,
   "metadata": {
    "colab": {
     "base_uri": "https://localhost:8080/"
    },
    "executionInfo": {
     "elapsed": 4,
     "status": "ok",
     "timestamp": 1657914498578,
     "user": {
      "displayName": "Саша Цариценская",
      "userId": "06396121656083390016"
     },
     "user_tz": -180
    },
    "id": "mjeLhghfOGe5",
    "outputId": "ba0849e8-0738-4c35-c270-379e2f55a5fd"
   },
   "outputs": [
    {
     "data": {
      "text/plain": [
       "<Response [200]>"
      ]
     },
     "execution_count": 15,
     "metadata": {},
     "output_type": "execute_result"
    }
   ],
   "source": [
    "rolls"
   ]
  },
  {
   "cell_type": "code",
   "execution_count": null,
   "metadata": {
    "colab": {
     "base_uri": "https://localhost:8080/",
     "height": 36
    },
    "executionInfo": {
     "elapsed": 279,
     "status": "ok",
     "timestamp": 1657914507369,
     "user": {
      "displayName": "Саша Цариценская",
      "userId": "06396121656083390016"
     },
     "user_tz": -180
    },
    "id": "YmxkmU--Wx7u",
    "outputId": "caf995e2-fb8a-432b-e952-cb503779f10b"
   },
   "outputs": [
    {
     "data": {
      "application/vnd.google.colaboratory.intrinsic+json": {
       "type": "string"
      },
      "text/plain": [
       "'application/json; charset=utf-8'"
      ]
     },
     "execution_count": 16,
     "metadata": {},
     "output_type": "execute_result"
    }
   ],
   "source": [
    "rolls.headers[\"Content-Type\"]"
   ]
  },
  {
   "cell_type": "code",
   "execution_count": null,
   "metadata": {
    "colab": {
     "base_uri": "https://localhost:8080/"
    },
    "executionInfo": {
     "elapsed": 4,
     "status": "ok",
     "timestamp": 1657914520465,
     "user": {
      "displayName": "Саша Цариценская",
      "userId": "06396121656083390016"
     },
     "user_tz": -180
    },
    "id": "SRQtugQrW8gU",
    "outputId": "0d4cc5f9-03a6-42f3-92cc-a78db835e746"
   },
   "outputs": [
    {
     "data": {
      "text/plain": [
       "{'crossLinks': {'body_types': [],\n",
       "  'colors': [],\n",
       "  'displacements': [],\n",
       "  'engine_types': [],\n",
       "  'gear_types': [],\n",
       "  'generations': [],\n",
       "  'seats': [],\n",
       "  'transmission_types': []},\n",
       " 'from_guru': False,\n",
       " 'groupedModelsCount': 1,\n",
       " 'grouping': {},\n",
       " 'hiddenOffers': [],\n",
       " 'new4newCount': 0,\n",
       " 'offers': [{'additional_info': {'booking': {},\n",
       "    'can_view': False,\n",
       "    'chat_only': False,\n",
       "    'counters_start_date': '1634632459000',\n",
       "    'creation_date': '1634632459000',\n",
       "    'days_in_stock': 270,\n",
       "    'days_on_sale': 270,\n",
       "    'dealer_card_promo': 'DONT_SHOW',\n",
       "    'exchange': True,\n",
       "    'fresh_date': '1634632459000',\n",
       "    'hidden': False,\n",
       "    'hot_info': {'end_time': '2021-10-19T08:34:19Z',\n",
       "     'is_hot': False,\n",
       "     'start_time': '2021-10-19T08:34:19Z'},\n",
       "    'is_on_moderation': False,\n",
       "    'not_disturb': True,\n",
       "    'price_stats': {},\n",
       "    'review_summary': {'avg_rating': 4.599999904632568, 'counter': 1},\n",
       "    'update_date': '1657341915000'},\n",
       "   'availability': 'IN_STOCK',\n",
       "   'category': 'cars',\n",
       "   'color_hex': 'FAFBFB',\n",
       "   'counters': {},\n",
       "   'delivery_info': {},\n",
       "   'discount_options': {},\n",
       "   'documents': {'custom_cleared': True,\n",
       "    'license_plate': '******|193',\n",
       "    'owners_number': 2,\n",
       "    'pts': 'ORIGINAL',\n",
       "    'pts_original': True,\n",
       "    'vin': 'SCA**************',\n",
       "    'vin_resolution': 'OK',\n",
       "    'warranty': True,\n",
       "    'warranty_expire': {'day': 1, 'month': 4, 'year': 2025},\n",
       "    'year': 2020},\n",
       "   'hash': '200d5ca9',\n",
       "   'id': '1105669514',\n",
       "   'is_favorite': False,\n",
       "   'multiposting': {},\n",
       "   'old_category_id': 15,\n",
       "   'owner_expenses': {'osago_insurance': [{'insurance_company': 'TINKOFF',\n",
       "      'price': 6248}],\n",
       "    'transport_tax': {'boost': 3,\n",
       "     'holding_period_month': 12,\n",
       "     'horse_power': 632,\n",
       "     'rate': 150,\n",
       "     'rid': 10995,\n",
       "     'tax_by_year': 284400,\n",
       "     'year': 2022}},\n",
       "   'price_history': [{'EUR': 630905,\n",
       "     'RUR': 36520000,\n",
       "     'USD': 631481,\n",
       "     'create_timestamp': 1653833464000}],\n",
       "   'price_info': {'EUR': 630905,\n",
       "    'RUR': 36520000,\n",
       "    'USD': 631481,\n",
       "    'currency': 'RUR',\n",
       "    'price': 36520000,\n",
       "    'with_nds': False},\n",
       "   'relevance': {'auction_model_rank': 11744,\n",
       "    'catboost_relevance_offline': 0.011744340767680035,\n",
       "    'catboost_relevance_offline_boosted': 0.011744340767680035,\n",
       "    'fresh_date': '1634632459000',\n",
       "    'fresh_relevance1': '43175000'},\n",
       "   'saleId': '1105669514-200d5ca9',\n",
       "   'salon': {'is_official': False, 'is_oficial': False, 'place': {}},\n",
       "   'score': {'health': 92, 'price': 0.5},\n",
       "   'section': 'used',\n",
       "   'seller': {'call_hours': {'call_hour_end': 0, 'call_hour_start': 0},\n",
       "    'chats_enabled': False,\n",
       "    'location': {'coord': {'latitude': 45.035469, 'longitude': 38.975311},\n",
       "     'distance_to_selected_geo': [{'coord': {'latitude': 47.222078,\n",
       "        'longitude': 39.720349},\n",
       "       'distance': 249,\n",
       "       'geobase_id': '39',\n",
       "       'region_info': {'accusative': 'Ростов-на-Дону',\n",
       "        'dative': 'Ростову-на-Дону',\n",
       "        'genitive': 'Ростова-на-Дону',\n",
       "        'id': '39',\n",
       "        'latitude': 47.222078,\n",
       "        'longitude': 39.720349,\n",
       "        'name': 'Ростов-на-Дону',\n",
       "        'preposition': 'в',\n",
       "        'prepositional': 'Ростове-на-Дону',\n",
       "        'supports_geo_radius': True}}],\n",
       "     'geobase_id': '35',\n",
       "     'region_info': {'accusative': 'Краснодар',\n",
       "      'dative': 'Краснодару',\n",
       "      'genitive': 'Краснодара',\n",
       "      'id': '35',\n",
       "      'latitude': 45.03547,\n",
       "      'longitude': 38.975313,\n",
       "      'name': 'Краснодар',\n",
       "      'parent_ids': ['35', '121158', '10995', '26', '225', '10001', '10000'],\n",
       "      'preposition': 'в',\n",
       "      'prepositional': 'Краснодаре'},\n",
       "     'timezone_info': {'abbr': 'MSK',\n",
       "      'dst': False,\n",
       "      'name': 'Europe/Moscow',\n",
       "      'offset': 10800}},\n",
       "    'name': 'id20013049',\n",
       "    'phones': [],\n",
       "    'redirect_phones': True},\n",
       "   'seller_type': 'PRIVATE',\n",
       "   'service_prices': [],\n",
       "   'services': [],\n",
       "   'state': {'image_urls': [{'is_hd': True,\n",
       "      'name': '1',\n",
       "      'photo_class': 'AUTO_VIEW_FRONT_LEFT',\n",
       "      'preview': 'data:image/jpeg;base64,/9j/4AAQSkZJRgABAgAAAQABAAD/2wBDAAMCAgMCAgMDAwMEAwMEBQgFBQQEBQoHBwYIDAoMDAsKCwsNDhIQDQ4RDgsLEBYQERMUFRUVDA8XGBYUGBIUFRT/2wBDAQMEBAUEBQkFBQkUDQsNFBQUFBQUFBQUFBQUFBQUFBQUFBQUFBQUFBQUFBQUFBQUFBQUFBQUFBQUFBQUFBQUFBT/wAARCAASABgDASIAAhEBAxEB/8QAHwAAAQUBAQEBAQEAAAAAAAAAAAECAwQFBgcICQoL/8QAtRAAAgEDAwIEAwUFBAQAAAF9AQIDAAQRBRIhMUEGE1FhByJxFDKBkaEII0KxwRVS0fAkM2JyggkKFhcYGRolJicoKSo0NTY3ODk6Q0RFRkdISUpTVFVWV1hZWmNkZWZnaGlqc3R1dnd4eXqDhIWGh4iJipKTlJWWl5iZmqKjpKWmp6ipqrKztLW2t7i5usLDxMXGx8jJytLT1NXW19jZ2uHi4+Tl5ufo6erx8vP09fb3+Pn6/8QAHwEAAwEBAQEBAQEBAQAAAAAAAAECAwQFBgcICQoL/8QAtREAAgECBAQDBAcFBAQAAQJ3AAECAxEEBSExBhJBUQdhcRMiMoEIFEKRobHBCSMzUvAVYnLRChYkNOEl8RcYGRomJygpKjU2Nzg5OkNERUZHSElKU1RVVldYWVpjZGVmZ2hpanN0dXZ3eHl6goOEhYaHiImKkpOUlZaXmJmaoqOkpaanqKmqsrO0tba3uLm6wsPExcbHyMnK0tPU1dbX2Nna4uPk5ebn6Onq8vP09fb3+Pn6/9oADAMBAAIRAxEAPwDxX4OapPd6tLfTGG4i02JpZ7guIxGvqdzHHU9K918T+PIvB1nl7PU9TmnWZRHpzFliXHBf5jz8/B9ugxXBeCoPA8fimPRrn7FauIjI1ujrESflxnH+8Djvgdqm8MeNrTV/Gtlo118O9ds904glv7myAiiXu5Ofu4Gc19RQenvux4dRPm91XPYtA+IcHijwrYWQniurrbazG2mcGeFVdGdWI6kBcA4yD1J7FcYPh/4T0jxzf6roMZt7l5POE0Vw7ANIuWxubGDuPHoaK4ptqXuuxtFu2p8TePdRu4PiDG8d1NG7TwqzJIQSCACD7EcH2r26z0LTUDyLp9osmwtvEC5zjrnFFFbR2B9Tufg7dT3XhiKWaaSaVs7nkYsxwSBkn2AooormLP/Z',\n",
       "      'sizes': {'1200x900': '//avatars.mds.yandex.net/get-autoru-vos/2078957/be9ad4ecb3f6739758485f974b0c7583/1200x900',\n",
       "       '1200x900n': '//avatars.mds.yandex.net/get-autoru-vos/2078957/be9ad4ecb3f6739758485f974b0c7583/1200x900n',\n",
       "       '320x240': '//avatars.mds.yandex.net/get-autoru-vos/2078957/be9ad4ecb3f6739758485f974b0c7583/320x240',\n",
       "       '456x342': '//avatars.mds.yandex.net/get-autoru-vos/2078957/be9ad4ecb3f6739758485f974b0c7583/456x342',\n",
       "       '456x342n': '//avatars.mds.yandex.net/get-autoru-vos/2078957/be9ad4ecb3f6739758485f974b0c7583/456x342n',\n",
       "       'small': '//avatars.mds.yandex.net/get-autoru-vos/2078957/be9ad4ecb3f6739758485f974b0c7583/small',\n",
       "       'thumb_m': '//avatars.mds.yandex.net/get-autoru-vos/2078957/be9ad4ecb3f6739758485f974b0c7583/thumb_m'}},\n",
       "     {'is_hd': True,\n",
       "      'name': '2',\n",
       "      'photo_class': 'AUTO_VIEW_SIDE_RIGHT',\n",
       "      'preview': 'data:image/jpeg;base64,/9j/4AAQSkZJRgABAgAAAQABAAD/2wBDAAMCAgMCAgMDAwMEAwMEBQgFBQQEBQoHBwYIDAoMDAsKCwsNDhIQDQ4RDgsLEBYQERMUFRUVDA8XGBYUGBIUFRT/2wBDAQMEBAUEBQkFBQkUDQsNFBQUFBQUFBQUFBQUFBQUFBQUFBQUFBQUFBQUFBQUFBQUFBQUFBQUFBQUFBQUFBQUFBT/wAARCAASABgDASIAAhEBAxEB/8QAHwAAAQUBAQEBAQEAAAAAAAAAAAECAwQFBgcICQoL/8QAtRAAAgEDAwIEAwUFBAQAAAF9AQIDAAQRBRIhMUEGE1FhByJxFDKBkaEII0KxwRVS0fAkM2JyggkKFhcYGRolJicoKSo0NTY3ODk6Q0RFRkdISUpTVFVWV1hZWmNkZWZnaGlqc3R1dnd4eXqDhIWGh4iJipKTlJWWl5iZmqKjpKWmp6ipqrKztLW2t7i5usLDxMXGx8jJytLT1NXW19jZ2uHi4+Tl5ufo6erx8vP09fb3+Pn6/8QAHwEAAwEBAQEBAQEBAQAAAAAAAAECAwQFBgcICQoL/8QAtREAAgECBAQDBAcFBAQAAQJ3AAECAxEEBSExBhJBUQdhcRMiMoEIFEKRobHBCSMzUvAVYnLRChYkNOEl8RcYGRomJygpKjU2Nzg5OkNERUZHSElKU1RVVldYWVpjZGVmZ2hpanN0dXZ3eHl6goOEhYaHiImKkpOUlZaXmJmaoqOkpaanqKmqsrO0tba3uLm6wsPExcbHyMnK0tPU1dbX2Nna4uPk5ebn6Onq8vP09fb3+Pn6/9oADAMBAAIRAxEAPwD0Kb40aM+nRXjR3i2kvlvHKsRaVhkbvkCnqM4OO4q7Z/EO01uCK4tdMu7uA43N5yiUZGc4MYYE+v1r5phi17S9Uvbuw11RBclf9FurdpI48DACASDbgccf4VR8R6341m0ye3srvT4LibAF3CjxOoyM45bkjIz2zX0M+WTvzM8SMpx0sj6guviJNbRKkWkiJ1AJNzNuJ4Gf4fUUV8leDvHfxCmvYtF12GO60a2MqtqBuGaYvjKgtkEjBA+7260VzvmjpGTsbK8tZI7N+Hk9icVRndsEbjgHpmiimyVuZukO32efk/8AH1J396KKKk0P/9k=',\n",
       "      'sizes': {'1200x900': '//avatars.mds.yandex.net/get-autoru-vos/5635384/9c561b211138e2b7a446e5b680cbe7c9/1200x900',\n",
       "       '1200x900n': '//avatars.mds.yandex.net/get-autoru-vos/5635384/9c561b211138e2b7a446e5b680cbe7c9/1200x900n',\n",
       "       '320x240': '//avatars.mds.yandex.net/get-autoru-vos/5635384/9c561b211138e2b7a446e5b680cbe7c9/320x240',\n",
       "       '456x342': '//avatars.mds.yandex.net/get-autoru-vos/5635384/9c561b211138e2b7a446e5b680cbe7c9/456x342',\n",
       "       '456x342n': '//avatars.mds.yandex.net/get-autoru-vos/5635384/9c561b211138e2b7a446e5b680cbe7c9/456x342n',\n",
       "       'small': '//avatars.mds.yandex.net/get-autoru-vos/5635384/9c561b211138e2b7a446e5b680cbe7c9/small',\n",
       "       'thumb_m': '//avatars.mds.yandex.net/get-autoru-vos/5635384/9c561b211138e2b7a446e5b680cbe7c9/thumb_m'}},\n",
       "     {'is_hd': True,\n",
       "      'name': '3',\n",
       "      'photo_class': 'AUTO_VIEW_SIDE_RIGHT',\n",
       "      'preview': 'data:image/jpeg;base64,/9j/4AAQSkZJRgABAgAAAQABAAD/2wBDAAMCAgMCAgMDAwMEAwMEBQgFBQQEBQoHBwYIDAoMDAsKCwsNDhIQDQ4RDgsLEBYQERMUFRUVDA8XGBYUGBIUFRT/2wBDAQMEBAUEBQkFBQkUDQsNFBQUFBQUFBQUFBQUFBQUFBQUFBQUFBQUFBQUFBQUFBQUFBQUFBQUFBQUFBQUFBQUFBT/wAARCAASABgDASIAAhEBAxEB/8QAHwAAAQUBAQEBAQEAAAAAAAAAAAECAwQFBgcICQoL/8QAtRAAAgEDAwIEAwUFBAQAAAF9AQIDAAQRBRIhMUEGE1FhByJxFDKBkaEII0KxwRVS0fAkM2JyggkKFhcYGRolJicoKSo0NTY3ODk6Q0RFRkdISUpTVFVWV1hZWmNkZWZnaGlqc3R1dnd4eXqDhIWGh4iJipKTlJWWl5iZmqKjpKWmp6ipqrKztLW2t7i5usLDxMXGx8jJytLT1NXW19jZ2uHi4+Tl5ufo6erx8vP09fb3+Pn6/8QAHwEAAwEBAQEBAQEBAQAAAAAAAAECAwQFBgcICQoL/8QAtREAAgECBAQDBAcFBAQAAQJ3AAECAxEEBSExBhJBUQdhcRMiMoEIFEKRobHBCSMzUvAVYnLRChYkNOEl8RcYGRomJygpKjU2Nzg5OkNERUZHSElKU1RVVldYWVpjZGVmZ2hpanN0dXZ3eHl6goOEhYaHiImKkpOUlZaXmJmaoqOkpaanqKmqsrO0tba3uLm6wsPExcbHyMnK0tPU1dbX2Nna4uPk5ebn6Onq8vP09fb3+Pn6/9oADAMBAAIRAxEAPwDi9S+PuqeO9M0K5uZG1bV4VuLSWKKNnl8uPDqc4P8Az2b/AL5rW0e18Ra5povF0K/tkKgMHicSNn1QAkA89QO3GCDWfp3g7W/Ctzptz4RvP7Eitrg3E9pmUxXWdgIkVSAflUgZ6biRg13p+JPjiyBQaLo12wOSkd3JCfx+Rua+p9tFqzZ89GnKPwmLJ8NdV1K3vL/+y7q7BukEEDuLeZot7NIZQ6KclSnILc7uTgAFee/EK6+LfiXxNc6tZzXui+UsZ0+003Vj5EBCjdvBVBJubcTlehA5AxRXO44eTu2/vOqM60VbT7j2O+YrbtgkdOlZFt/x/W3vIM+9FFc0hxJLqRhdABiBg9DRRRUGh//Z',\n",
       "      'sizes': {'1200x900': '//avatars.mds.yandex.net/get-autoru-vos/5484094/05285bb79229b483d757e757b34ed916/1200x900',\n",
       "       '1200x900n': '//avatars.mds.yandex.net/get-autoru-vos/5484094/05285bb79229b483d757e757b34ed916/1200x900n',\n",
       "       '320x240': '//avatars.mds.yandex.net/get-autoru-vos/5484094/05285bb79229b483d757e757b34ed916/320x240',\n",
       "       '456x342': '//avatars.mds.yandex.net/get-autoru-vos/5484094/05285bb79229b483d757e757b34ed916/456x342',\n",
       "       '456x342n': '//avatars.mds.yandex.net/get-autoru-vos/5484094/05285bb79229b483d757e757b34ed916/456x342n',\n",
       "       'small': '//avatars.mds.yandex.net/get-autoru-vos/5484094/05285bb79229b483d757e757b34ed916/small',\n",
       "       'thumb_m': '//avatars.mds.yandex.net/get-autoru-vos/5484094/05285bb79229b483d757e757b34ed916/thumb_m'}},\n",
       "     {'is_hd': True,\n",
       "      'name': '4',\n",
       "      'photo_class': 'AUTO_VIEW_BACK_LEFT',\n",
       "      'preview': 'data:image/jpeg;base64,/9j/4AAQSkZJRgABAgAAAQABAAD/2wBDAAMCAgMCAgMDAwMEAwMEBQgFBQQEBQoHBwYIDAoMDAsKCwsNDhIQDQ4RDgsLEBYQERMUFRUVDA8XGBYUGBIUFRT/2wBDAQMEBAUEBQkFBQkUDQsNFBQUFBQUFBQUFBQUFBQUFBQUFBQUFBQUFBQUFBQUFBQUFBQUFBQUFBQUFBQUFBQUFBT/wAARCAASABgDASIAAhEBAxEB/8QAHwAAAQUBAQEBAQEAAAAAAAAAAAECAwQFBgcICQoL/8QAtRAAAgEDAwIEAwUFBAQAAAF9AQIDAAQRBRIhMUEGE1FhByJxFDKBkaEII0KxwRVS0fAkM2JyggkKFhcYGRolJicoKSo0NTY3ODk6Q0RFRkdISUpTVFVWV1hZWmNkZWZnaGlqc3R1dnd4eXqDhIWGh4iJipKTlJWWl5iZmqKjpKWmp6ipqrKztLW2t7i5usLDxMXGx8jJytLT1NXW19jZ2uHi4+Tl5ufo6erx8vP09fb3+Pn6/8QAHwEAAwEBAQEBAQEBAQAAAAAAAAECAwQFBgcICQoL/8QAtREAAgECBAQDBAcFBAQAAQJ3AAECAxEEBSExBhJBUQdhcRMiMoEIFEKRobHBCSMzUvAVYnLRChYkNOEl8RcYGRomJygpKjU2Nzg5OkNERUZHSElKU1RVVldYWVpjZGVmZ2hpanN0dXZ3eHl6goOEhYaHiImKkpOUlZaXmJmaoqOkpaanqKmqsrO0tba3uLm6wsPExcbHyMnK0tPU1dbX2Nna4uPk5ebn6Onq8vP09fb3+Pn6/9oADAMBAAIRAxEAPwDN+MPxkg8PS2sc1pbz6gmbeVrG5E0dwpKsjxNndjKkEe6+tYCeL/Hslkklr4IvIyFLEPHMHGAP4N+ffGO1dH4e+HNld+NLHWtQ0065NYDzEZp/KNuRyjrHwHORwOxIPbjrp/FPiG0lLWOhG1KgFS8BfJHbPmL+BxX1FGMakearq/Q8KpKcHaFkvU8d+GHxWfxpr9zo95HMbuONrrzIroRrjeq7CGBzyx5zngUVdOlTeHvGGtanJpttomp6kN0sumXDHz432s4cBjgGRSdo4+UHGaK8+tGTm+XQ6qcko66m/d3c9vfxGKaSIsAGKMRkb1610eqXEoif94//AH0aKK66XwHLU+I8Q8GahdX11dyXNzNcSCTbulkLHAJwMntRRRXK9zZbH//Z',\n",
       "      'sizes': {'1200x900': '//avatars.mds.yandex.net/get-autoru-vos/4615031/e23be3c6fa6a66290154f3f8fb8b216b/1200x900',\n",
       "       '1200x900n': '//avatars.mds.yandex.net/get-autoru-vos/4615031/e23be3c6fa6a66290154f3f8fb8b216b/1200x900n',\n",
       "       '320x240': '//avatars.mds.yandex.net/get-autoru-vos/4615031/e23be3c6fa6a66290154f3f8fb8b216b/320x240',\n",
       "       '456x342': '//avatars.mds.yandex.net/get-autoru-vos/4615031/e23be3c6fa6a66290154f3f8fb8b216b/456x342',\n",
       "       '456x342n': '//avatars.mds.yandex.net/get-autoru-vos/4615031/e23be3c6fa6a66290154f3f8fb8b216b/456x342n',\n",
       "       'small': '//avatars.mds.yandex.net/get-autoru-vos/4615031/e23be3c6fa6a66290154f3f8fb8b216b/small',\n",
       "       'thumb_m': '//avatars.mds.yandex.net/get-autoru-vos/4615031/e23be3c6fa6a66290154f3f8fb8b216b/thumb_m'}},\n",
       "     {'is_hd': True,\n",
       "      'name': '5',\n",
       "      'photo_class': 'AUTO_VIEW_SALON_FRONT_RIGHT',\n",
       "      'preview': 'data:image/jpeg;base64,/9j/4AAQSkZJRgABAgAAAQABAAD/2wBDAAMCAgMCAgMDAwMEAwMEBQgFBQQEBQoHBwYIDAoMDAsKCwsNDhIQDQ4RDgsLEBYQERMUFRUVDA8XGBYUGBIUFRT/2wBDAQMEBAUEBQkFBQkUDQsNFBQUFBQUFBQUFBQUFBQUFBQUFBQUFBQUFBQUFBQUFBQUFBQUFBQUFBQUFBQUFBQUFBT/wAARCAASABgDASIAAhEBAxEB/8QAHwAAAQUBAQEBAQEAAAAAAAAAAAECAwQFBgcICQoL/8QAtRAAAgEDAwIEAwUFBAQAAAF9AQIDAAQRBRIhMUEGE1FhByJxFDKBkaEII0KxwRVS0fAkM2JyggkKFhcYGRolJicoKSo0NTY3ODk6Q0RFRkdISUpTVFVWV1hZWmNkZWZnaGlqc3R1dnd4eXqDhIWGh4iJipKTlJWWl5iZmqKjpKWmp6ipqrKztLW2t7i5usLDxMXGx8jJytLT1NXW19jZ2uHi4+Tl5ufo6erx8vP09fb3+Pn6/8QAHwEAAwEBAQEBAQEBAQAAAAAAAAECAwQFBgcICQoL/8QAtREAAgECBAQDBAcFBAQAAQJ3AAECAxEEBSExBhJBUQdhcRMiMoEIFEKRobHBCSMzUvAVYnLRChYkNOEl8RcYGRomJygpKjU2Nzg5OkNERUZHSElKU1RVVldYWVpjZGVmZ2hpanN0dXZ3eHl6goOEhYaHiImKkpOUlZaXmJmaoqOkpaanqKmqsrO0tba3uLm6wsPExcbHyMnK0tPU1dbX2Nna4uPk5ebn6Onq8vP09fb3+Pn6/9oADAMBAAIRAxEAPwDzC6+IV9pXw7kv/tmqajDqE5trebSoBFBblEVygMh+RWLD5schTj1rn/CfxLbSPHUdvq+pmbTDMXu7C4JlSODqQXwCHQb+VDcgAE85sePpfh94vtoPCHw81W51C+0x2vrRb1/3t5MVZJY0cqiMzDyiFAORGwGSwBj+FPw5udY8eW2v+K7W88JWcIN3eXWu2Zgtg6yhTGWYqMli2FOOmOa6XZpuW5ilZ2Rr/FvSNFk1a6+0rcQJNqUsFrb6YfNkuH4jESyMSscfyhyzbiocfJ82AV33jr9n/wAYa/4o1TxXqMK6vpwnnurG80S7keeOF23pGAysMdPm2NjGQygDBSjsrMhxV9j4dmRRfykKAQcg46V0Ta5qOq29pHe6hdXkcORElxMzhB6KCePwoorte6M47M+9f+Cc+q3t34e8R2s95cTWttcRCCCSVmSLKknapOFyeTiiiivJq/Gz0Kfwo//Z',\n",
       "      'sizes': {'1200x900': '//avatars.mds.yandex.net/get-autoru-vos/5478604/516748acbcc853989b4bf2229ae724ae/1200x900',\n",
       "       '1200x900n': '//avatars.mds.yandex.net/get-autoru-vos/5478604/516748acbcc853989b4bf2229ae724ae/1200x900n',\n",
       "       '320x240': '//avatars.mds.yandex.net/get-autoru-vos/5478604/516748acbcc853989b4bf2229ae724ae/320x240',\n",
       "       '456x342': '//avatars.mds.yandex.net/get-autoru-vos/5478604/516748acbcc853989b4bf2229ae724ae/456x342',\n",
       "       '456x342n': '//avatars.mds.yandex.net/get-autoru-vos/5478604/516748acbcc853989b4bf2229ae724ae/456x342n',\n",
       "       'small': '//avatars.mds.yandex.net/get-autoru-vos/5478604/516748acbcc853989b4bf2229ae724ae/small',\n",
       "       'thumb_m': '//avatars.mds.yandex.net/get-autoru-vos/5478604/516748acbcc853989b4bf2229ae724ae/thumb_m'}},\n",
       "     {'is_hd': True,\n",
       "      'name': '6',\n",
       "      'photo_class': 'AUTO_VIEW_PP_RIGHT',\n",
       "      'preview': 'data:image/jpeg;base64,/9j/4AAQSkZJRgABAgAAAQABAAD/2wBDAAMCAgMCAgMDAwMEAwMEBQgFBQQEBQoHBwYIDAoMDAsKCwsNDhIQDQ4RDgsLEBYQERMUFRUVDA8XGBYUGBIUFRT/2wBDAQMEBAUEBQkFBQkUDQsNFBQUFBQUFBQUFBQUFBQUFBQUFBQUFBQUFBQUFBQUFBQUFBQUFBQUFBQUFBQUFBQUFBT/wAARCAASABgDASIAAhEBAxEB/8QAHwAAAQUBAQEBAQEAAAAAAAAAAAECAwQFBgcICQoL/8QAtRAAAgEDAwIEAwUFBAQAAAF9AQIDAAQRBRIhMUEGE1FhByJxFDKBkaEII0KxwRVS0fAkM2JyggkKFhcYGRolJicoKSo0NTY3ODk6Q0RFRkdISUpTVFVWV1hZWmNkZWZnaGlqc3R1dnd4eXqDhIWGh4iJipKTlJWWl5iZmqKjpKWmp6ipqrKztLW2t7i5usLDxMXGx8jJytLT1NXW19jZ2uHi4+Tl5ufo6erx8vP09fb3+Pn6/8QAHwEAAwEBAQEBAQEBAQAAAAAAAAECAwQFBgcICQoL/8QAtREAAgECBAQDBAcFBAQAAQJ3AAECAxEEBSExBhJBUQdhcRMiMoEIFEKRobHBCSMzUvAVYnLRChYkNOEl8RcYGRomJygpKjU2Nzg5OkNERUZHSElKU1RVVldYWVpjZGVmZ2hpanN0dXZ3eHl6goOEhYaHiImKkpOUlZaXmJmaoqOkpaanqKmqsrO0tba3uLm6wsPExcbHyMnK0tPU1dbX2Nna4uPk5ebn6Onq8vP09fb3+Pn6/9oADAMBAAIRAxEAPwDoPCfxB1bxfqdzZ6ZoF272xxMZSsYjOcYbPQ8Hj2qW++IGrab4mTQLnw7qy6q43JbwQrKXX1XackcH8jXN6p8crz4beP8AxVpviHwTHZPqsgup7eXUlCDI+Xa4jIIK7fXJDZPJUc3q/wC1oL7xs2rp4ft4oYdNbS44Ir9y4Q/xLLszn3xXXyNu9jFystz0RfjLZWmoz2F5Ld6deQAma3uY5I3QAZOVI9OaK8Lf4hQ+PPizpl9qWmta2N+iWTRxyF3KlTFu3EDcctycdqKmSULXTFFuWx4MXa61KQzMZT6ud386iuwILj92PL/3eKKK9V7HD1NrQLiX/hIbZ/Mfesq4bccjBGKKKKwZUT//2Q==',\n",
       "      'sizes': {'1200x900': '//avatars.mds.yandex.net/get-autoru-vos/5243767/34cfbcbdf54088909c63f8b7a8618835/1200x900',\n",
       "       '1200x900n': '//avatars.mds.yandex.net/get-autoru-vos/5243767/34cfbcbdf54088909c63f8b7a8618835/1200x900n',\n",
       "       '320x240': '//avatars.mds.yandex.net/get-autoru-vos/5243767/34cfbcbdf54088909c63f8b7a8618835/320x240',\n",
       "       '456x342': '//avatars.mds.yandex.net/get-autoru-vos/5243767/34cfbcbdf54088909c63f8b7a8618835/456x342',\n",
       "       '456x342n': '//avatars.mds.yandex.net/get-autoru-vos/5243767/34cfbcbdf54088909c63f8b7a8618835/456x342n',\n",
       "       'small': '//avatars.mds.yandex.net/get-autoru-vos/5243767/34cfbcbdf54088909c63f8b7a8618835/small',\n",
       "       'thumb_m': '//avatars.mds.yandex.net/get-autoru-vos/5243767/34cfbcbdf54088909c63f8b7a8618835/thumb_m'}},\n",
       "     {'is_hd': True,\n",
       "      'name': '7',\n",
       "      'photo_class': 'AUTO_VIEW_SEAT_RIGHT',\n",
       "      'preview': 'data:image/jpeg;base64,/9j/4AAQSkZJRgABAgAAAQABAAD/2wBDAAMCAgMCAgMDAwMEAwMEBQgFBQQEBQoHBwYIDAoMDAsKCwsNDhIQDQ4RDgsLEBYQERMUFRUVDA8XGBYUGBIUFRT/2wBDAQMEBAUEBQkFBQkUDQsNFBQUFBQUFBQUFBQUFBQUFBQUFBQUFBQUFBQUFBQUFBQUFBQUFBQUFBQUFBQUFBQUFBT/wAARCAASABgDASIAAhEBAxEB/8QAHwAAAQUBAQEBAQEAAAAAAAAAAAECAwQFBgcICQoL/8QAtRAAAgEDAwIEAwUFBAQAAAF9AQIDAAQRBRIhMUEGE1FhByJxFDKBkaEII0KxwRVS0fAkM2JyggkKFhcYGRolJicoKSo0NTY3ODk6Q0RFRkdISUpTVFVWV1hZWmNkZWZnaGlqc3R1dnd4eXqDhIWGh4iJipKTlJWWl5iZmqKjpKWmp6ipqrKztLW2t7i5usLDxMXGx8jJytLT1NXW19jZ2uHi4+Tl5ufo6erx8vP09fb3+Pn6/8QAHwEAAwEBAQEBAQEBAQAAAAAAAAECAwQFBgcICQoL/8QAtREAAgECBAQDBAcFBAQAAQJ3AAECAxEEBSExBhJBUQdhcRMiMoEIFEKRobHBCSMzUvAVYnLRChYkNOEl8RcYGRomJygpKjU2Nzg5OkNERUZHSElKU1RVVldYWVpjZGVmZ2hpanN0dXZ3eHl6goOEhYaHiImKkpOUlZaXmJmaoqOkpaanqKmqsrO0tba3uLm6wsPExcbHyMnK0tPU1dbX2Nna4uPk5ebn6Onq8vP09fb3+Pn6/9oADAMBAAIRAxEAPwDmvFOka54MtyHltNTCSGLMFwpcEZ4IODnj0rF0ez8Z+Ihcvp+hXVxHboZJWjjJVUBwWz0wCCK9x+Av7NSaN4JGseJNQm8TeJNSRLsT3kbW/wBlt3HyRiPnDsCWYnn7qkDBz5x8bbTRdO+IzeHtOsreB9LNqmpSJctA2SsVwC2w7mPz8g5HHNZeyfNrqYwmmtNDQ+FngzxH4r1SJi1tb2yOVllmkAVAMbju5HGfXsaK+pG+Hem+HjJZ6fp9nFbmJI3JQKRmJckfKeeT+NFawg2gm9dDStpHaTUiWJP2rHJ7bV4/U1+V37ScjT/tSeOzIxkJ1q4UljnIDkAfQAAfhRRXTT3OVn6m+JppPtTne3McRPP/AEyWiiitIfCE9z//2Q==',\n",
       "      'sizes': {'1200x900': '//avatars.mds.yandex.net/get-autoru-vos/5246345/1ecd9c5f64846c4ff849862093a30d4b/1200x900',\n",
       "       '1200x900n': '//avatars.mds.yandex.net/get-autoru-vos/5246345/1ecd9c5f64846c4ff849862093a30d4b/1200x900n',\n",
       "       '320x240': '//avatars.mds.yandex.net/get-autoru-vos/5246345/1ecd9c5f64846c4ff849862093a30d4b/320x240',\n",
       "       '456x342': '//avatars.mds.yandex.net/get-autoru-vos/5246345/1ecd9c5f64846c4ff849862093a30d4b/456x342',\n",
       "       '456x342n': '//avatars.mds.yandex.net/get-autoru-vos/5246345/1ecd9c5f64846c4ff849862093a30d4b/456x342n',\n",
       "       'small': '//avatars.mds.yandex.net/get-autoru-vos/5246345/1ecd9c5f64846c4ff849862093a30d4b/small',\n",
       "       'thumb_m': '//avatars.mds.yandex.net/get-autoru-vos/5246345/1ecd9c5f64846c4ff849862093a30d4b/thumb_m'}},\n",
       "     {'is_hd': True,\n",
       "      'name': '8',\n",
       "      'photo_class': 'AUTO_VIEW_DISK_RIGHT',\n",
       "      'preview': 'data:image/jpeg;base64,/9j/4AAQSkZJRgABAgAAAQABAAD/2wBDAAMCAgMCAgMDAwMEAwMEBQgFBQQEBQoHBwYIDAoMDAsKCwsNDhIQDQ4RDgsLEBYQERMUFRUVDA8XGBYUGBIUFRT/2wBDAQMEBAUEBQkFBQkUDQsNFBQUFBQUFBQUFBQUFBQUFBQUFBQUFBQUFBQUFBQUFBQUFBQUFBQUFBQUFBQUFBQUFBT/wAARCAASABgDASIAAhEBAxEB/8QAHwAAAQUBAQEBAQEAAAAAAAAAAAECAwQFBgcICQoL/8QAtRAAAgEDAwIEAwUFBAQAAAF9AQIDAAQRBRIhMUEGE1FhByJxFDKBkaEII0KxwRVS0fAkM2JyggkKFhcYGRolJicoKSo0NTY3ODk6Q0RFRkdISUpTVFVWV1hZWmNkZWZnaGlqc3R1dnd4eXqDhIWGh4iJipKTlJWWl5iZmqKjpKWmp6ipqrKztLW2t7i5usLDxMXGx8jJytLT1NXW19jZ2uHi4+Tl5ufo6erx8vP09fb3+Pn6/8QAHwEAAwEBAQEBAQEBAQAAAAAAAAECAwQFBgcICQoL/8QAtREAAgECBAQDBAcFBAQAAQJ3AAECAxEEBSExBhJBUQdhcRMiMoEIFEKRobHBCSMzUvAVYnLRChYkNOEl8RcYGRomJygpKjU2Nzg5OkNERUZHSElKU1RVVldYWVpjZGVmZ2hpanN0dXZ3eHl6goOEhYaHiImKkpOUlZaXmJmaoqOkpaanqKmqsrO0tba3uLm6wsPExcbHyMnK0tPU1dbX2Nna4uPk5ebn6Onq8vP09fb3+Pn6/9oADAMBAAIRAxEAPwDmv2mfHur+I/iVrHhazmuLfw14ehU3UVqWCyt5YeSSTaCdq7sYwcYJ9SPM9N/4lOrSLoty66hbAv52k3E4k2qASylgu4AEEgZOD0rp/jzFYR/FTXNYN/d6XDdyW942oWU8avbMIhHIfLf/AFoyrkqDna+MHNcvrPhywuPBtjq2k2eqX11fpEZDp2MXdvgSHygo+Xb5e1lAJGAOvFfTqs7JLqeH7HV3Pov4DfH2bxHqdr4Z8Tzxy3VydlhqYAQTt2jkHQOexHXp16lfKzeI4byFL/T7a801HiM6x3UmZ4Z4mIZtwVeTt35wPvUVqpXJceXoey/Euyt/sVofIiy/nqx2D5h5MhwfxUH6geleBeIdQurLULj7PczQfZ9M1HyfKkK+X5ZJj246bTyMdO1FFcVPY7Z/EdT8WCVvNHYHDS+HYpZCOruxfcx9Se5oooq47GM9z//Z',\n",
       "      'sizes': {'1200x900': '//avatars.mds.yandex.net/get-autoru-vos/5555838/8399a2b7cbfab8f6ee65c9f0c36ec3a3/1200x900',\n",
       "       '1200x900n': '//avatars.mds.yandex.net/get-autoru-vos/5555838/8399a2b7cbfab8f6ee65c9f0c36ec3a3/1200x900n',\n",
       "       '320x240': '//avatars.mds.yandex.net/get-autoru-vos/5555838/8399a2b7cbfab8f6ee65c9f0c36ec3a3/320x240',\n",
       "       '456x342': '//avatars.mds.yandex.net/get-autoru-vos/5555838/8399a2b7cbfab8f6ee65c9f0c36ec3a3/456x342',\n",
       "       '456x342n': '//avatars.mds.yandex.net/get-autoru-vos/5555838/8399a2b7cbfab8f6ee65c9f0c36ec3a3/456x342n',\n",
       "       'small': '//avatars.mds.yandex.net/get-autoru-vos/5555838/8399a2b7cbfab8f6ee65c9f0c36ec3a3/small',\n",
       "       'thumb_m': '//avatars.mds.yandex.net/get-autoru-vos/5555838/8399a2b7cbfab8f6ee65c9f0c36ec3a3/thumb_m'}},\n",
       "     {'is_hd': True,\n",
       "      'name': '9',\n",
       "      'photo_class': 'AUTO_VIEW_BOOT_RIGHT',\n",
       "      'preview': 'data:image/jpeg;base64,/9j/4AAQSkZJRgABAgAAAQABAAD/2wBDAAMCAgMCAgMDAwMEAwMEBQgFBQQEBQoHBwYIDAoMDAsKCwsNDhIQDQ4RDgsLEBYQERMUFRUVDA8XGBYUGBIUFRT/2wBDAQMEBAUEBQkFBQkUDQsNFBQUFBQUFBQUFBQUFBQUFBQUFBQUFBQUFBQUFBQUFBQUFBQUFBQUFBQUFBQUFBQUFBT/wAARCAASABgDASIAAhEBAxEB/8QAHwAAAQUBAQEBAQEAAAAAAAAAAAECAwQFBgcICQoL/8QAtRAAAgEDAwIEAwUFBAQAAAF9AQIDAAQRBRIhMUEGE1FhByJxFDKBkaEII0KxwRVS0fAkM2JyggkKFhcYGRolJicoKSo0NTY3ODk6Q0RFRkdISUpTVFVWV1hZWmNkZWZnaGlqc3R1dnd4eXqDhIWGh4iJipKTlJWWl5iZmqKjpKWmp6ipqrKztLW2t7i5usLDxMXGx8jJytLT1NXW19jZ2uHi4+Tl5ufo6erx8vP09fb3+Pn6/8QAHwEAAwEBAQEBAQEBAQAAAAAAAAECAwQFBgcICQoL/8QAtREAAgECBAQDBAcFBAQAAQJ3AAECAxEEBSExBhJBUQdhcRMiMoEIFEKRobHBCSMzUvAVYnLRChYkNOEl8RcYGRomJygpKjU2Nzg5OkNERUZHSElKU1RVVldYWVpjZGVmZ2hpanN0dXZ3eHl6goOEhYaHiImKkpOUlZaXmJmaoqOkpaanqKmqsrO0tba3uLm6wsPExcbHyMnK0tPU1dbX2Nna4uPk5ebn6Onq8vP09fb3+Pn6/9oADAMBAAIRAxEAPwDm/wBoC21TxR4g8O/C/wAEM+m6BOBKUt4SqSxqx8yWYnspGQpz6tliMc/8Svh+nwi0/wAIX1som1aK6kkKW0ZW4ucNCEwuMAbuAAOTIQOhr6F+KvxU8L6Z8Q1F/wCJNPsLzTbEQvA0YWVkkIdUC7WkYY2kBDg5yQe3zbq3xHm+Mnxlle3jaLRoooVtNZlRw9olvIZjIig4CtIMbm45HPXHty5py948tJRj6nY6Z8Wf7X8IRf8ACCeIZtP8Qz3anU7W9tkiaZCpBYNlhkbUXkjd1xnJorzy40XUo4rjUZ4Y7bxBpF4Y9WeA7JYpCQEuAVxkOQgJ6BtrDmRsFUqN9Y2MY3irXOZ/amAu/wBrnxOk485H1K0jZZPmBXy4RtIPbHGPSvX7K3itfg9oUsMSQy3eqqlw8ahWmVYmKhyPvAHkA9DRRTr/AAM0pfEj0H4xWNta/DaSeC3ihnvNFEtzLGgVp3W40sKzkcsQCQCegNFFFa0/hMpbn//Z',\n",
       "      'sizes': {'1200x900': '//avatars.mds.yandex.net/get-autoru-vos/5620341/aa83fa32c24864b9cf3f6e6355eac3b0/1200x900',\n",
       "       '1200x900n': '//avatars.mds.yandex.net/get-autoru-vos/5620341/aa83fa32c24864b9cf3f6e6355eac3b0/1200x900n',\n",
       "       '320x240': '//avatars.mds.yandex.net/get-autoru-vos/5620341/aa83fa32c24864b9cf3f6e6355eac3b0/320x240',\n",
       "       '456x342': '//avatars.mds.yandex.net/get-autoru-vos/5620341/aa83fa32c24864b9cf3f6e6355eac3b0/456x342',\n",
       "       '456x342n': '//avatars.mds.yandex.net/get-autoru-vos/5620341/aa83fa32c24864b9cf3f6e6355eac3b0/456x342n',\n",
       "       'small': '//avatars.mds.yandex.net/get-autoru-vos/5620341/aa83fa32c24864b9cf3f6e6355eac3b0/small',\n",
       "       'thumb_m': '//avatars.mds.yandex.net/get-autoru-vos/5620341/aa83fa32c24864b9cf3f6e6355eac3b0/thumb_m'}},\n",
       "     {'is_hd': True,\n",
       "      'name': '10',\n",
       "      'photo_class': 'AUTO_VIEW_HAND_RIGHT',\n",
       "      'preview': 'data:image/jpeg;base64,/9j/4AAQSkZJRgABAgAAAQABAAD/2wBDAAMCAgMCAgMDAwMEAwMEBQgFBQQEBQoHBwYIDAoMDAsKCwsNDhIQDQ4RDgsLEBYQERMUFRUVDA8XGBYUGBIUFRT/2wBDAQMEBAUEBQkFBQkUDQsNFBQUFBQUFBQUFBQUFBQUFBQUFBQUFBQUFBQUFBQUFBQUFBQUFBQUFBQUFBQUFBQUFBT/wAARCAASABgDASIAAhEBAxEB/8QAHwAAAQUBAQEBAQEAAAAAAAAAAAECAwQFBgcICQoL/8QAtRAAAgEDAwIEAwUFBAQAAAF9AQIDAAQRBRIhMUEGE1FhByJxFDKBkaEII0KxwRVS0fAkM2JyggkKFhcYGRolJicoKSo0NTY3ODk6Q0RFRkdISUpTVFVWV1hZWmNkZWZnaGlqc3R1dnd4eXqDhIWGh4iJipKTlJWWl5iZmqKjpKWmp6ipqrKztLW2t7i5usLDxMXGx8jJytLT1NXW19jZ2uHi4+Tl5ufo6erx8vP09fb3+Pn6/8QAHwEAAwEBAQEBAQEBAQAAAAAAAAECAwQFBgcICQoL/8QAtREAAgECBAQDBAcFBAQAAQJ3AAECAxEEBSExBhJBUQdhcRMiMoEIFEKRobHBCSMzUvAVYnLRChYkNOEl8RcYGRomJygpKjU2Nzg5OkNERUZHSElKU1RVVldYWVpjZGVmZ2hpanN0dXZ3eHl6goOEhYaHiImKkpOUlZaXmJmaoqOkpaanqKmqsrO0tba3uLm6wsPExcbHyMnK0tPU1dbX2Nna4uPk5ebn6Onq8vP09fb3+Pn6/9oADAMBAAIRAxEAPwD59+NNsnj34Z+A/iFpek/atT1NZrDW3t1YsbqIp++KoRlpAGJJz2/Cj8K9Ak0TU9A1S88Npqi/a4JJEdyTEqyr5isoyjbo1kAVgGBbOTgZ7/4fWE3gH4FfEPw7r9mwufB+u2l68U0CylRMnlAhd2ME4IOfQ16D4A174Z3OgwXN14pvYbDYD9jlkiszFLklnSNmnAzuIO0DPPqc+nTppxskcFWbUr3Pl69/Zf8AGd94x1/SNA8O3upW2n381rHdKoWJ1VyFIdiFOVweveiv0q8J+L9E8UeHLbV/DU0mo6eimw3puLM0OOCWC7jsdMnHJorGVVp2saRppq9zzLx9p9rc/ED4wW81tDLbz6No5lieMFJCL6QAsDweAOvpXxd4Vsre4+J9naywRS2pvNhgdAUK5PG3piiinh/ifoVW+Fep+qeqaHp3h7wH4dtNK0+10y1WUFYLOFYkBMbE4VQByeTRRRXHL4mbLZH/2Q==',\n",
       "      'sizes': {'1200x900': '//avatars.mds.yandex.net/get-autoru-vos/5555838/3a19ca98e48c217abde76d6daf935364/1200x900',\n",
       "       '1200x900n': '//avatars.mds.yandex.net/get-autoru-vos/5555838/3a19ca98e48c217abde76d6daf935364/1200x900n',\n",
       "       '320x240': '//avatars.mds.yandex.net/get-autoru-vos/5555838/3a19ca98e48c217abde76d6daf935364/320x240',\n",
       "       '456x342': '//avatars.mds.yandex.net/get-autoru-vos/5555838/3a19ca98e48c217abde76d6daf935364/456x342',\n",
       "       '456x342n': '//avatars.mds.yandex.net/get-autoru-vos/5555838/3a19ca98e48c217abde76d6daf935364/456x342n',\n",
       "       'small': '//avatars.mds.yandex.net/get-autoru-vos/5555838/3a19ca98e48c217abde76d6daf935364/small',\n",
       "       'thumb_m': '//avatars.mds.yandex.net/get-autoru-vos/5555838/3a19ca98e48c217abde76d6daf935364/thumb_m'}},\n",
       "     {'is_hd': True,\n",
       "      'name': '11',\n",
       "      'photo_class': 'AUTO_VIEW_HAND_RIGHT',\n",
       "      'preview': 'data:image/jpeg;base64,/9j/4AAQSkZJRgABAgAAAQABAAD/2wBDAAMCAgMCAgMDAwMEAwMEBQgFBQQEBQoHBwYIDAoMDAsKCwsNDhIQDQ4RDgsLEBYQERMUFRUVDA8XGBYUGBIUFRT/2wBDAQMEBAUEBQkFBQkUDQsNFBQUFBQUFBQUFBQUFBQUFBQUFBQUFBQUFBQUFBQUFBQUFBQUFBQUFBQUFBQUFBQUFBT/wAARCAASABgDASIAAhEBAxEB/8QAHwAAAQUBAQEBAQEAAAAAAAAAAAECAwQFBgcICQoL/8QAtRAAAgEDAwIEAwUFBAQAAAF9AQIDAAQRBRIhMUEGE1FhByJxFDKBkaEII0KxwRVS0fAkM2JyggkKFhcYGRolJicoKSo0NTY3ODk6Q0RFRkdISUpTVFVWV1hZWmNkZWZnaGlqc3R1dnd4eXqDhIWGh4iJipKTlJWWl5iZmqKjpKWmp6ipqrKztLW2t7i5usLDxMXGx8jJytLT1NXW19jZ2uHi4+Tl5ufo6erx8vP09fb3+Pn6/8QAHwEAAwEBAQEBAQEBAQAAAAAAAAECAwQFBgcICQoL/8QAtREAAgECBAQDBAcFBAQAAQJ3AAECAxEEBSExBhJBUQdhcRMiMoEIFEKRobHBCSMzUvAVYnLRChYkNOEl8RcYGRomJygpKjU2Nzg5OkNERUZHSElKU1RVVldYWVpjZGVmZ2hpanN0dXZ3eHl6goOEhYaHiImKkpOUlZaXmJmaoqOkpaanqKmqsrO0tba3uLm6wsPExcbHyMnK0tPU1dbX2Nna4uPk5ebn6Onq8vP09fb3+Pn6/9oADAMBAAIRAxEAPwDym7+HfiDwvEhurq1u7DU7bZDqgtjcfZpkbcUffwpC5HbO4Yzg40bKXWILjU4NM8T39ja3ClbeHT7Kd1hYsCWEcYxkgHp6msH4I/F/xP4kPiXw7/aUtxqV3aXF/Aslw0TfuUDuI5FyVYxiUj1KgZGcjmdM+NGt6vqF5qKT3V1GtusMwvtUuZoiFVRwiKOX2ZJPB3HON2K6rTu7ox922h6fY/BXRNUutR1jxfrGoaYksge109LYQv5SqEEjpLjaW28Ar056Yor5z+Otvrw+J2qNqt8dSWdILi0ulVljktXiVoWVSTj5CoIySGDAknNFCpzevMZucU7cpsfspMT8ePDvJ5S8B9wbSbIru/BNrC1o7mGMumzaxUZXIkzj64FFFdH2n8hfZRo/E+xtrrV/hIs1vFKsllJE4dAwZBdy4U56gZPHuaKKKkXVn//Z',\n",
       "      'sizes': {'1200x900': '//avatars.mds.yandex.net/get-autoru-vos/5546503/1fc7ea788d9a81bbb320c42e705ed796/1200x900',\n",
       "       '1200x900n': '//avatars.mds.yandex.net/get-autoru-vos/5546503/1fc7ea788d9a81bbb320c42e705ed796/1200x900n',\n",
       "       '320x240': '//avatars.mds.yandex.net/get-autoru-vos/5546503/1fc7ea788d9a81bbb320c42e705ed796/320x240',\n",
       "       '456x342': '//avatars.mds.yandex.net/get-autoru-vos/5546503/1fc7ea788d9a81bbb320c42e705ed796/456x342',\n",
       "       '456x342n': '//avatars.mds.yandex.net/get-autoru-vos/5546503/1fc7ea788d9a81bbb320c42e705ed796/456x342n',\n",
       "       'small': '//avatars.mds.yandex.net/get-autoru-vos/5546503/1fc7ea788d9a81bbb320c42e705ed796/small',\n",
       "       'thumb_m': '//avatars.mds.yandex.net/get-autoru-vos/5546503/1fc7ea788d9a81bbb320c42e705ed796/thumb_m'}}],\n",
       "    'images_count': 16,\n",
       "    'mileage': 6000,\n",
       "    'state_not_beaten': True},\n",
       "   'status': 'ACTIVE',\n",
       "   'sub_category': 'cars',\n",
       "   'tags': ['big',\n",
       "    'fast',\n",
       "    'vin_offers_history',\n",
       "    'allowed_for_safe_deal',\n",
       "    'available_for_checkup',\n",
       "    'style',\n",
       "    'vin_resolution_ok',\n",
       "    'vin_checked',\n",
       "    'sport',\n",
       "    'prestige',\n",
       "    'no_accidents',\n",
       "    'warranty',\n",
       "    'almost_new',\n",
       "    'low_mileage',\n",
       "    'pts_original',\n",
       "    'real_photo',\n",
       "    'withNumericFeaturePairs'],\n",
       "   'vehicle_info': {'complectation': {'id': '0'},\n",
       "    'configuration': {'body_type': 'COUPE',\n",
       "     'doors_count': 2,\n",
       "     'human_name': 'Купе',\n",
       "     'id': '10387523',\n",
       "     'main_photo': {'name': 'configuration-photo',\n",
       "      'sizes': {'cattouch': '//avatars.mds.yandex.net/get-verba/937147/2a00000170ef4023cede1fcd14a239557981/cattouch',\n",
       "       'main': '//avatars.mds.yandex.net/get-verba/937147/2a00000170ef4023cede1fcd14a239557981/gallery',\n",
       "       'mini-card': '//avatars.mds.yandex.net/get-verba/937147/2a00000170ef4023cede1fcd14a239557981/minicard',\n",
       "       'mobile': '//avatars.mds.yandex.net/get-verba/937147/2a00000170ef4023cede1fcd14a239557981/auto_main',\n",
       "       'orig': '//avatars.mds.yandex.net/get-verba/937147/2a00000170ef4023cede1fcd14a239557981/orig',\n",
       "       'wizardv3mr': '//avatars.mds.yandex.net/get-verba/937147/2a00000170ef4023cede1fcd14a239557981/wizardv3mr'}}},\n",
       "    'equipment': {},\n",
       "    'mark_info': {'code': 'ROLLS_ROYCE',\n",
       "     'logo': {'name': 'mark-logo',\n",
       "      'sizes': {'big-logo': '//avatars.mds.yandex.net/get-verba/216201/2a00000179b400fdf4e7fae13e9c78fa7743/dealer_logo',\n",
       "       'black-logo': '//avatars.mds.yandex.net/get-verba/216201/2a00000179b40120dc917d9e8988c2ca3617/logo',\n",
       "       'logo': '//avatars.mds.yandex.net/get-verba/216201/2a00000179b400fdf4e7fae13e9c78fa7743/logo'}},\n",
       "     'name': 'Rolls-Royce',\n",
       "     'numeric_id': '3182',\n",
       "     'ru_name': 'Роллс-Ройс'},\n",
       "    'model_info': {'code': 'WRAITH', 'name': 'Wraith', 'ru_name': 'рейс'},\n",
       "    'steering_wheel': 'LEFT',\n",
       "    'super_gen': {'id': '10387520',\n",
       "     'name': '',\n",
       "     'price_segment': 'PREMIUM',\n",
       "     'purpose_group': 'BUSINESS',\n",
       "     'ru_name': '',\n",
       "     'year_from': 2013,\n",
       "     'year_to': 2022},\n",
       "    'tech_param': {'displacement': 6592,\n",
       "     'engine_type': 'GASOLINE',\n",
       "     'gear_type': 'REAR_DRIVE',\n",
       "     'human_name': 'Black Badge 6.6 AT (632 л.с.)',\n",
       "     'id': '20882384',\n",
       "     'name': 'Black Badge',\n",
       "     'nameplate': 'Black Badge',\n",
       "     'power': 632,\n",
       "     'power_kvt': 465,\n",
       "     'transmission': 'AUTOMATIC'},\n",
       "    'vendor': 'EUROPEAN'}}],\n",
       " 'output_type': 'list',\n",
       " 'pagination': {'current': 1,\n",
       "  'from': 1,\n",
       "  'page': 1,\n",
       "  'page_size': 37,\n",
       "  'to': 37,\n",
       "  'total_offers_count': 1,\n",
       "  'total_page_count': 1},\n",
       " 'paramsDescription': {'moreCount': 0,\n",
       "  'paramsInfo': [{'key': 'price_from',\n",
       "    'label': 'Цена',\n",
       "    'val': 'от\\xa030\\xa0000\\xa0000\\xa0₽'}]},\n",
       " 'price_range': {'max': {'currency': 'RUR',\n",
       "   'dprice': 32900000,\n",
       "   'eur_dprice': 568367,\n",
       "   'eur_price': 568367,\n",
       "   'price': 32900000,\n",
       "   'rur_dprice': 32900000,\n",
       "   'rur_price': 32900000,\n",
       "   'usd_dprice': 568886,\n",
       "   'usd_price': 568886},\n",
       "  'min': {'currency': 'RUR',\n",
       "   'dprice': 32900000,\n",
       "   'eur_dprice': 568367,\n",
       "   'eur_price': 568367,\n",
       "   'price': 32900000,\n",
       "   'rur_dprice': 32900000,\n",
       "   'rur_price': 32900000,\n",
       "   'usd_dprice': 568886,\n",
       "   'usd_price': 568886}},\n",
       " 'productionYears': {'max_year': 2020, 'min_year': 2020},\n",
       " 'query': 'catalog_filter=mark%3DROLLS_ROYCE&category=cars&context=listing&currency=&geo_radius=300&group_by=&page_size=37&page=1&price_from=30000000&rid=39&sort=fresh_relevance_1-desc&state_group=ALL&with_delivery=BOTH&with_discount=true',\n",
       " 'relatedDealers': {'dealers': [],\n",
       "  'errors': [],\n",
       "  'pager': {'available-page-count': 0,\n",
       "   'count': 0,\n",
       "   'current': 1,\n",
       "   'from': 1,\n",
       "   'page-size': 4,\n",
       "   'to': 0,\n",
       "   'total-page-count': 0},\n",
       "  'parsed-query': {'filters': {'mark': [{'id': 'rolls_royce',\n",
       "      'name': 'Rolls-Royce',\n",
       "      'verba-code': 'ROLLS_ROYCE'}],\n",
       "    'only-count': False,\n",
       "    'org-type': ['1', '5'],\n",
       "    'rid': [39],\n",
       "    'tariff_types': ['AUTO']}}},\n",
       " 'request_id': 'e423c615a18cff3b22d4bcb2e38491af',\n",
       " 'response_flags': {'show_match_application_form': False},\n",
       " 'search_id': 'a21372e05aaf650fd04555886f7b3a0813daa6e4',\n",
       " 'search_parameters': {'catalog_filter': [{'mark': 'ROLLS_ROYCE'}],\n",
       "  'category': 'cars',\n",
       "  'price_from': 30000000,\n",
       "  'section': 'all'},\n",
       " 'shouldShowListingBestPriceBlock': 0,\n",
       " 'status': 'SUCCESS',\n",
       " 'trucksCount': 0}"
      ]
     },
     "execution_count": 17,
     "metadata": {},
     "output_type": "execute_result"
    }
   ],
   "source": [
    "rolls_data = rolls.json()\n",
    "rolls_data"
   ]
  },
  {
   "cell_type": "code",
   "execution_count": null,
   "metadata": {
    "colab": {
     "base_uri": "https://localhost:8080/"
    },
    "executionInfo": {
     "elapsed": 270,
     "status": "ok",
     "timestamp": 1657914540316,
     "user": {
      "displayName": "Саша Цариценская",
      "userId": "06396121656083390016"
     },
     "user_tz": -180
    },
    "id": "891xURs3W8cW",
    "outputId": "11a1cccb-aed8-4b18-fd46-1d0b4fcc6072"
   },
   "outputs": [
    {
     "data": {
      "text/plain": [
       "1"
      ]
     },
     "execution_count": 18,
     "metadata": {},
     "output_type": "execute_result"
    }
   ],
   "source": [
    "len(rolls_data['offers'])"
   ]
  },
  {
   "cell_type": "code",
   "execution_count": null,
   "metadata": {
    "colab": {
     "base_uri": "https://localhost:8080/"
    },
    "executionInfo": {
     "elapsed": 262,
     "status": "ok",
     "timestamp": 1657914580402,
     "user": {
      "displayName": "Саша Цариценская",
      "userId": "06396121656083390016"
     },
     "user_tz": -180
    },
    "id": "QsyujhwrW8WQ",
    "outputId": "6d9aff74-0de3-41aa-c39c-574f69a213ef"
   },
   "outputs": [
    {
     "name": "stdout",
     "output_type": "stream",
     "text": [
      "ROLLS_ROYCE Black Badge 6.6 AT (632 л.с.), Mileage: 6000, Price: 630905\n"
     ]
    }
   ],
   "source": [
    "for offer in rolls_data['offers']:\n",
    "  print(f'ROLLS_ROYCE {offer[\"vehicle_info\"][\"tech_param\"][\"human_name\"]}, Mileage: {offer[\"state\"][\"mileage\"]}, Price: {offer[\"price_info\"][\"EUR\"]}')"
   ]
  },
  {
   "cell_type": "code",
   "execution_count": null,
   "metadata": {
    "executionInfo": {
     "elapsed": 3,
     "status": "ok",
     "timestamp": 1658125494157,
     "user": {
      "displayName": "Саша Цариценская",
      "userId": "06396121656083390016"
     },
     "user_tz": -180
    },
    "id": "Bl3PDBY4Xuv2"
   },
   "outputs": [],
   "source": []
  },
  {
   "cell_type": "code",
   "execution_count": null,
   "metadata": {
    "executionInfo": {
     "elapsed": 417,
     "status": "ok",
     "timestamp": 1658125491685,
     "user": {
      "displayName": "Саша Цариценская",
      "userId": "06396121656083390016"
     },
     "user_tz": -180
    },
    "id": "foQ2fr69tQMR"
   },
   "outputs": [],
   "source": []
  },
  {
   "cell_type": "code",
   "execution_count": null,
   "metadata": {
    "executionInfo": {
     "elapsed": 6,
     "status": "ok",
     "timestamp": 1658125488717,
     "user": {
      "displayName": "Саша Цариценская",
      "userId": "06396121656083390016"
     },
     "user_tz": -180
    },
    "id": "-bbv8W9ftWgF"
   },
   "outputs": [],
   "source": []
  },
  {
   "cell_type": "code",
   "execution_count": null,
   "metadata": {
    "executionInfo": {
     "elapsed": 302,
     "status": "ok",
     "timestamp": 1658125487560,
     "user": {
      "displayName": "Саша Цариценская",
      "userId": "06396121656083390016"
     },
     "user_tz": -180
    },
    "id": "XscR5D69W8Rw"
   },
   "outputs": [],
   "source": []
  },
  {
   "cell_type": "code",
   "execution_count": null,
   "metadata": {
    "id": "50I26y6-W8A9"
   },
   "outputs": [],
   "source": []
  }
 ],
 "metadata": {
  "colab": {
   "authorship_tag": "ABX9TyPFLunGo2ddHbzHvWFdfDZJ",
   "collapsed_sections": [],
   "name": "Парсинг тренинг.ipynb",
   "provenance": []
  },
  "kernelspec": {
   "display_name": "Python 3 (ipykernel)",
   "language": "python",
   "name": "python3"
  },
  "language_info": {
   "codemirror_mode": {
    "name": "ipython",
    "version": 3
   },
   "file_extension": ".py",
   "mimetype": "text/x-python",
   "name": "python",
   "nbconvert_exporter": "python",
   "pygments_lexer": "ipython3",
   "version": "3.9.7"
  }
 },
 "nbformat": 4,
 "nbformat_minor": 1
}
