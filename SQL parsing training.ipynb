{
 "cells": [
  {
   "cell_type": "code",
   "execution_count": 2,
   "id": "997b8b40",
   "metadata": {},
   "outputs": [],
   "source": [
    "import pandas as pd\n",
    "import numpy as np\n",
    "import requests\n",
    "import sqlite3"
   ]
  },
  {
   "cell_type": "code",
   "execution_count": 3,
   "id": "4fe3439f",
   "metadata": {},
   "outputs": [],
   "source": [
    "connection = sqlite3.connect('C:\\\\Users\\\\tsaritsenskaya\\\\Downloads\\\\local_db.db')"
   ]
  },
  {
   "cell_type": "code",
   "execution_count": 4,
   "id": "02bd82df",
   "metadata": {},
   "outputs": [],
   "source": [
    "db_1 = connection.execute('select Name, StationCapacity, Location from stations')"
   ]
  },
  {
   "cell_type": "code",
   "execution_count": 5,
   "id": "106894a8",
   "metadata": {},
   "outputs": [
    {
     "data": {
      "text/plain": [
       "(('Name', None, None, None, None, None, None),\n",
       " ('StationCapacity', None, None, None, None, None, None),\n",
       " ('Location', None, None, None, None, None, None))"
      ]
     },
     "execution_count": 5,
     "metadata": {},
     "output_type": "execute_result"
    }
   ],
   "source": [
    "db_1.description"
   ]
  },
  {
   "cell_type": "code",
   "execution_count": 6,
   "id": "70308313",
   "metadata": {},
   "outputs": [],
   "source": [
    "row = db_1.fetchall()"
   ]
  },
  {
   "cell_type": "code",
   "execution_count": 11,
   "id": "0fcdfdba",
   "metadata": {},
   "outputs": [],
   "source": [
    "df = pd.DataFrame(row, columns=[x[0] for x in db_1.description])"
   ]
  },
  {
   "cell_type": "code",
   "execution_count": 12,
   "id": "8293a97d",
   "metadata": {},
   "outputs": [
    {
     "data": {
      "text/html": [
       "<div>\n",
       "<style scoped>\n",
       "    .dataframe tbody tr th:only-of-type {\n",
       "        vertical-align: middle;\n",
       "    }\n",
       "\n",
       "    .dataframe tbody tr th {\n",
       "        vertical-align: top;\n",
       "    }\n",
       "\n",
       "    .dataframe thead th {\n",
       "        text-align: right;\n",
       "    }\n",
       "</style>\n",
       "<table border=\"1\" class=\"dataframe\">\n",
       "  <thead>\n",
       "    <tr style=\"text-align: right;\">\n",
       "      <th></th>\n",
       "      <th>Name</th>\n",
       "      <th>StationCapacity</th>\n",
       "      <th>Location</th>\n",
       "    </tr>\n",
       "  </thead>\n",
       "  <tbody>\n",
       "    <tr>\n",
       "      <th>0</th>\n",
       "      <td>Пункт проката велосипедов № 2</td>\n",
       "      <td>14</td>\n",
       "      <td>Гоголевский б-р (напротив д.17, стр.1)</td>\n",
       "    </tr>\n",
       "    <tr>\n",
       "      <th>1</th>\n",
       "      <td>Пункт проката велосипедов № 3</td>\n",
       "      <td>12</td>\n",
       "      <td>Гоголевский б-р (напротив д.33)</td>\n",
       "    </tr>\n",
       "    <tr>\n",
       "      <th>2</th>\n",
       "      <td>Пункт проката велосипедов № 5</td>\n",
       "      <td>12</td>\n",
       "      <td>Никитский б-р (напротив д.11/12, стр.3)</td>\n",
       "    </tr>\n",
       "    <tr>\n",
       "      <th>3</th>\n",
       "      <td>Пункт проката велосипедов № 6</td>\n",
       "      <td>15</td>\n",
       "      <td>Никитский б-р (напротив д.23/14/9)</td>\n",
       "    </tr>\n",
       "    <tr>\n",
       "      <th>4</th>\n",
       "      <td>Пункт проката велосипедов № 8</td>\n",
       "      <td>14</td>\n",
       "      <td>Тверской б-р (напротив д.17, стр.1)</td>\n",
       "    </tr>\n",
       "  </tbody>\n",
       "</table>\n",
       "</div>"
      ],
      "text/plain": [
       "                            Name StationCapacity  \\\n",
       "0  Пункт проката велосипедов № 2              14   \n",
       "1  Пункт проката велосипедов № 3              12   \n",
       "2  Пункт проката велосипедов № 5              12   \n",
       "3  Пункт проката велосипедов № 6              15   \n",
       "4  Пункт проката велосипедов № 8              14   \n",
       "\n",
       "                                  Location  \n",
       "0   Гоголевский б-р (напротив д.17, стр.1)  \n",
       "1          Гоголевский б-р (напротив д.33)  \n",
       "2  Никитский б-р (напротив д.11/12, стр.3)  \n",
       "3       Никитский б-р (напротив д.23/14/9)  \n",
       "4      Тверской б-р (напротив д.17, стр.1)  "
      ]
     },
     "execution_count": 12,
     "metadata": {},
     "output_type": "execute_result"
    }
   ],
   "source": [
    "df.head()"
   ]
  },
  {
   "cell_type": "code",
   "execution_count": 13,
   "id": "48ca1ba2",
   "metadata": {},
   "outputs": [
    {
     "data": {
      "text/plain": [
       "<bound method DataFrame.info of                                 Name StationCapacity  \\\n",
       "0      Пункт проката велосипедов № 2              14   \n",
       "1      Пункт проката велосипедов № 3              12   \n",
       "2      Пункт проката велосипедов № 5              12   \n",
       "3      Пункт проката велосипедов № 6              15   \n",
       "4      Пункт проката велосипедов № 8              14   \n",
       "..                               ...             ...   \n",
       "722  Пункт проката велосипедов № 966              15   \n",
       "723  Пункт проката велосипедов № 967              15   \n",
       "724  Пункт проката велосипедов № 968              15   \n",
       "725  Пункт проката велосипедов № 969              15   \n",
       "726  Пункт проката велосипедов № 970              15   \n",
       "\n",
       "                                    Location  \n",
       "0     Гоголевский б-р (напротив д.17, стр.1)  \n",
       "1            Гоголевский б-р (напротив д.33)  \n",
       "2    Никитский б-р (напротив д.11/12, стр.3)  \n",
       "3         Никитский б-р (напротив д.23/14/9)  \n",
       "4        Тверской б-р (напротив д.17, стр.1)  \n",
       "..                                       ...  \n",
       "722   Сколково, Большой бульвар, д.42, стр.1  \n",
       "723   Сколково, Большой бульвар, д.30, стр.1  \n",
       "724           Сколково, Большой бульвар, д.7  \n",
       "725     Сколково, Большой бульвар, д.47, к.1  \n",
       "726         Сколково, ул. Блеза Паскаля, д.2  \n",
       "\n",
       "[727 rows x 3 columns]>"
      ]
     },
     "execution_count": 13,
     "metadata": {},
     "output_type": "execute_result"
    }
   ],
   "source": [
    "df.info"
   ]
  },
  {
   "cell_type": "code",
   "execution_count": 24,
   "id": "93d4ce93",
   "metadata": {},
   "outputs": [],
   "source": [
    "df['StationCapacity'] = df['StationCapacity'].astype(int)"
   ]
  },
  {
   "cell_type": "code",
   "execution_count": 25,
   "id": "08e71d18",
   "metadata": {},
   "outputs": [
    {
     "data": {
      "text/plain": [
       "dtype('int32')"
      ]
     },
     "execution_count": 25,
     "metadata": {},
     "output_type": "execute_result"
    }
   ],
   "source": [
    "df['StationCapacity'].dtype"
   ]
  },
  {
   "cell_type": "code",
   "execution_count": 37,
   "id": "19505adb",
   "metadata": {},
   "outputs": [],
   "source": [
    "df1 = df.sort_values(by=['StationCapacity', 'Name'], ascending=[False, True])"
   ]
  },
  {
   "cell_type": "code",
   "execution_count": 38,
   "id": "65246b61",
   "metadata": {},
   "outputs": [
    {
     "data": {
      "text/html": [
       "<div>\n",
       "<style scoped>\n",
       "    .dataframe tbody tr th:only-of-type {\n",
       "        vertical-align: middle;\n",
       "    }\n",
       "\n",
       "    .dataframe tbody tr th {\n",
       "        vertical-align: top;\n",
       "    }\n",
       "\n",
       "    .dataframe thead th {\n",
       "        text-align: right;\n",
       "    }\n",
       "</style>\n",
       "<table border=\"1\" class=\"dataframe\">\n",
       "  <thead>\n",
       "    <tr style=\"text-align: right;\">\n",
       "      <th></th>\n",
       "      <th>Name</th>\n",
       "      <th>StationCapacity</th>\n",
       "      <th>Location</th>\n",
       "    </tr>\n",
       "  </thead>\n",
       "  <tbody>\n",
       "    <tr>\n",
       "      <th>33</th>\n",
       "      <td>Пункт проката велосипедов № 209</td>\n",
       "      <td>54</td>\n",
       "      <td>ст. м. Спортивная (выход №1)</td>\n",
       "    </tr>\n",
       "    <tr>\n",
       "      <th>331</th>\n",
       "      <td>Пункт проката велосипедов № 100</td>\n",
       "      <td>51</td>\n",
       "      <td>Зубовский б-р, д.5, стр.1 (ст. м. Парк Культуры)</td>\n",
       "    </tr>\n",
       "    <tr>\n",
       "      <th>162</th>\n",
       "      <td>Пункт проката велосипедов № 466</td>\n",
       "      <td>48</td>\n",
       "      <td>Продольный пр. (у главного входа ВДНХ)</td>\n",
       "    </tr>\n",
       "    <tr>\n",
       "      <th>465</th>\n",
       "      <td>Пункт проката велосипедов № 700</td>\n",
       "      <td>48</td>\n",
       "      <td>пр-т Мира, д.119, стр.23 (у Москвариума)</td>\n",
       "    </tr>\n",
       "    <tr>\n",
       "      <th>332</th>\n",
       "      <td>Пункт проката велосипедов № 102</td>\n",
       "      <td>45</td>\n",
       "      <td>Зубовская пл., д.3, стр.1</td>\n",
       "    </tr>\n",
       "    <tr>\n",
       "      <th>30</th>\n",
       "      <td>Пункт проката велосипедов № 210</td>\n",
       "      <td>45</td>\n",
       "      <td>Лужнецкая наб. (пересеч. с Новолужнецким пр.)</td>\n",
       "    </tr>\n",
       "  </tbody>\n",
       "</table>\n",
       "</div>"
      ],
      "text/plain": [
       "                                Name  StationCapacity  \\\n",
       "33   Пункт проката велосипедов № 209               54   \n",
       "331  Пункт проката велосипедов № 100               51   \n",
       "162  Пункт проката велосипедов № 466               48   \n",
       "465  Пункт проката велосипедов № 700               48   \n",
       "332  Пункт проката велосипедов № 102               45   \n",
       "30   Пункт проката велосипедов № 210               45   \n",
       "\n",
       "                                             Location  \n",
       "33                       ст. м. Спортивная (выход №1)  \n",
       "331  Зубовский б-р, д.5, стр.1 (ст. м. Парк Культуры)  \n",
       "162            Продольный пр. (у главного входа ВДНХ)  \n",
       "465          пр-т Мира, д.119, стр.23 (у Москвариума)  \n",
       "332                         Зубовская пл., д.3, стр.1  \n",
       "30      Лужнецкая наб. (пересеч. с Новолужнецким пр.)  "
      ]
     },
     "execution_count": 38,
     "metadata": {},
     "output_type": "execute_result"
    }
   ],
   "source": [
    "df1.head(6)"
   ]
  },
  {
   "cell_type": "code",
   "execution_count": 39,
   "id": "1985c429",
   "metadata": {},
   "outputs": [],
   "source": [
    "df1.to_csv('C:\\\\Users\\\\tsaritsenskaya\\\\Downloads\\\\local1.csv', sep=';', index=False, encoding='utf-8')"
   ]
  },
  {
   "cell_type": "code",
   "execution_count": null,
   "id": "4a4652d8",
   "metadata": {},
   "outputs": [],
   "source": []
  }
 ],
 "metadata": {
  "kernelspec": {
   "display_name": "Python 3 (ipykernel)",
   "language": "python",
   "name": "python3"
  },
  "language_info": {
   "codemirror_mode": {
    "name": "ipython",
    "version": 3
   },
   "file_extension": ".py",
   "mimetype": "text/x-python",
   "name": "python",
   "nbconvert_exporter": "python",
   "pygments_lexer": "ipython3",
   "version": "3.9.7"
  }
 },
 "nbformat": 4,
 "nbformat_minor": 5
}
